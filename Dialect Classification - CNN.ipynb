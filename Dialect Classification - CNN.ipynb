{
 "cells": [
  {
   "cell_type": "markdown",
   "metadata": {},
   "source": [
    "In this notebook we'll try out an LSTM on the same data as our baseline model, and see how it performs. Our hypothesis is that it won't perform any better, yet, becuase the baseline does such a good job at keying off pronouns to do dialect classification. "
   ]
  },
  {
   "cell_type": "code",
   "execution_count": 1,
   "metadata": {},
   "outputs": [
    {
     "name": "stderr",
     "output_type": "stream",
     "text": [
      "Using TensorFlow backend.\n"
     ]
    }
   ],
   "source": [
    "from keras.preprocessing.text import Tokenizer\n",
    "from keras.preprocessing.sequence import pad_sequences\n",
    "from keras.models import Sequential\n",
    "from keras.layers import Dense, Dropout, Flatten, LSTM, Activation\n",
    "from keras.layers import Embedding\n",
    "from keras.layers import Conv1D, GlobalAveragePooling1D, MaxPooling1D\n",
    "from keras.utils.np_utils import to_categorical\n",
    "from sklearn.model_selection import train_test_split\n",
    "\n",
    "import nltk\n",
    "import numpy as np\n",
    "import pandas as pd\n",
    "import csv"
   ]
  },
  {
   "cell_type": "code",
   "execution_count": 55,
   "metadata": {},
   "outputs": [
    {
     "name": "stdout",
     "output_type": "stream",
     "text": [
      "(100000, 12)\n"
     ]
    }
   ],
   "source": [
    "# Load data from CSV file\n",
    "reviews = pd.read_csv('./data/reviews.csv', \n",
    "                      names=[\n",
    "                          'business_id',\n",
    "                          'review_id',\n",
    "                          'user_id',\n",
    "                          'latitude',\n",
    "                          'longitude',\n",
    "                          'region',\n",
    "                          'name',\n",
    "                          'postal_code',\n",
    "                          'city',\n",
    "                          'state',\n",
    "                          'neighborhood',\n",
    "                          'text',\n",
    "                      ],\n",
    "                      dtype={\n",
    "                          'business_id': str,\n",
    "                          'review_id': str,\n",
    "                          'text': str,\n",
    "                          'user_id': str,\n",
    "                          'city': str,\n",
    "                          'latitude': np.float32,\n",
    "                          'longitude': np.float32,\n",
    "                          'region': str,\n",
    "                          'name': str,\n",
    "                          'neighborhood': str,\n",
    "                          'postal_code': str,\n",
    "                          'state': str\n",
    "                      },\n",
    "                      header=None, \n",
    "                      encoding='utf-8',\n",
    "                      nrows=1000000,\n",
    "#                       skiprows=3000000,\n",
    "                      sep='|',\n",
    "                      quoting=csv.QUOTE_MINIMAL,\n",
    "                      index_col=None,\n",
    "                      error_bad_lines=False\n",
    "                     )\n",
    "print(reviews.shape)\n",
    "reviews = reviews.reset_index()"
   ]
  },
  {
   "cell_type": "code",
   "execution_count": 58,
   "metadata": {},
   "outputs": [
    {
     "name": "stdout",
     "output_type": "stream",
     "text": [
      "(100000, 13)\n"
     ]
    }
   ],
   "source": [
    "reviews.dropna(subset=['text'], inplace=True)\n",
    "print(reviews.shape)"
   ]
  },
  {
   "cell_type": "code",
   "execution_count": 59,
   "metadata": {},
   "outputs": [],
   "source": [
    "import re\n",
    "import string\n",
    "import nltk\n",
    "from nltk.corpus import stopwords"
   ]
  },
  {
   "cell_type": "code",
   "execution_count": 60,
   "metadata": {},
   "outputs": [],
   "source": [
    "def clean_text(text):\n",
    "    \n",
    "    ## Remove puncuation\n",
    "    text = text.translate(string.punctuation)\n",
    "    \n",
    "    ## Clean the text\n",
    "    text = re.sub(r\"[^A-Za-z0-9^,!.\\/'+-=<>]\", \" \", text)\n",
    "    text = re.sub(r\"what's\", \"what is \", text)\n",
    "    text = re.sub(r\"\\'s\", \" \", text)\n",
    "    text = re.sub(r\"\\'ve\", \" have \", text)\n",
    "    text = re.sub(r\"n't\", \" not \", text)\n",
    "    text = re.sub(r\"i'm\", \"i am \", text)\n",
    "    text = re.sub(r\"\\'re\", \" are \", text)\n",
    "    text = re.sub(r\"\\'d\", \" would \", text)\n",
    "    text = re.sub(r\"\\'ll\", \" will \", text)\n",
    "    text = re.sub(r\",\", \" \", text)\n",
    "    text = re.sub(r\"\\.\", \" \", text)\n",
    "    text = re.sub(r\"!\", \" ! \", text)\n",
    "    text = re.sub(r\"\\/\", \" \", text)\n",
    "    text = re.sub(r\"\\^\", \" ^ \", text)\n",
    "    text = re.sub(r\"\\+\", \" + \", text)\n",
    "    text = re.sub(r\"\\-\", \" - \", text)\n",
    "    text = re.sub(r\"\\=\", \" = \", text)\n",
    "    text = re.sub(r\"'\", \" \", text)\n",
    "    text = re.sub(r\"(\\d+)(k)\", r\"\\g<1>000\", text)\n",
    "    text = re.sub(r\":\", \" : \", text)\n",
    "    text = re.sub(r\" e g \", \" eg \", text)\n",
    "    text = re.sub(r\" b g \", \" bg \", text)\n",
    "    text = re.sub(r\" u s \", \" american \", text)\n",
    "    text = re.sub(r\"\\0s\", \"0\", text)\n",
    "    text = re.sub(r\" 9 11 \", \"911\", text)\n",
    "    text = re.sub(r\"e - mail\", \"email\", text)\n",
    "    text = re.sub(r\"j k\", \"jk\", text)\n",
    "    text = re.sub(r\"\\s{2,}\", \" \", text)\n",
    "    return text"
   ]
  },
  {
   "cell_type": "code",
   "execution_count": 61,
   "metadata": {},
   "outputs": [
    {
     "name": "stdout",
     "output_type": "stream",
     "text": [
      "Completed 0 rows\n",
      "Completed 10000 rows\n",
      "Completed 20000 rows\n",
      "Completed 30000 rows\n",
      "Completed 40000 rows\n",
      "Completed 50000 rows\n",
      "Completed 60000 rows\n",
      "Completed 70000 rows\n",
      "Completed 80000 rows\n",
      "Completed 90000 rows\n",
      "CPU times: user 1min 55s, sys: 0 ns, total: 1min 55s\n",
      "Wall time: 1min 55s\n"
     ]
    }
   ],
   "source": [
    "%%time\n",
    "\n",
    "# Tokenize reviews for POS tagging\n",
    "sents = []\n",
    "for i, review in enumerate(reviews['text'].values):\n",
    "    sents.append(nltk.word_tokenize(review))\n",
    "    if i % 10000 == 0:\n",
    "        print('Completed {0} rows'.format(str(i)))"
   ]
  },
  {
   "cell_type": "code",
   "execution_count": 62,
   "metadata": {},
   "outputs": [
    {
     "data": {
      "text/plain": [
       "100000"
      ]
     },
     "execution_count": 62,
     "metadata": {},
     "output_type": "execute_result"
    }
   ],
   "source": [
    "len(sents)"
   ]
  },
  {
   "cell_type": "code",
   "execution_count": 63,
   "metadata": {},
   "outputs": [
    {
     "name": "stdout",
     "output_type": "stream",
     "text": [
      "Completed 10000 rows\n",
      "Completed 20000 rows\n",
      "Completed 30000 rows\n",
      "Completed 40000 rows\n",
      "Completed 50000 rows\n",
      "Completed 60000 rows\n",
      "Completed 70000 rows\n",
      "Completed 80000 rows\n",
      "Completed 90000 rows\n",
      "Completed 100000 rows\n"
     ]
    }
   ],
   "source": [
    "# Tag all words with their parts of speech using nltk\n",
    "tags = []\n",
    "for i in range(0, len(sents), 10000):\n",
    "    end = i+10000\n",
    "    if end > len(sents):\n",
    "        end = len(sents)\n",
    "    batch = sents[i:end]\n",
    "    tags.extend(nltk.pos_tag_sents(batch))\n",
    "    print('Completed {0} rows'.format(str(i+10000)))"
   ]
  },
  {
   "cell_type": "code",
   "execution_count": 64,
   "metadata": {},
   "outputs": [
    {
     "data": {
      "text/plain": [
       "100000"
      ]
     },
     "execution_count": 64,
     "metadata": {},
     "output_type": "execute_result"
    }
   ],
   "source": [
    "len(tags)"
   ]
  },
  {
   "cell_type": "code",
   "execution_count": 65,
   "metadata": {},
   "outputs": [
    {
     "name": "stdout",
     "output_type": "stream",
     "text": [
      "0\n",
      "10000\n",
      "20000\n",
      "30000\n",
      "40000\n",
      "50000\n",
      "60000\n",
      "70000\n",
      "80000\n",
      "90000\n"
     ]
    }
   ],
   "source": [
    "# Remove all proper nouns and clean reviews\n",
    "cleaned_sents = []\n",
    "stops = set(stopwords.words(\"english\"))\n",
    "for i, review in enumerate(tags):\n",
    "    \n",
    "    ## Remove stop words\n",
    "    review = [w for w in review if not w[0].lower() in stops and len(w[0]) >= 3]\n",
    "    \n",
    "    ## Replace proper nouns with <NNP>\n",
    "    review = [w[0] if not (w[1] in ['NNP', 'NNPS']) else '<NNP>' for w in review]\n",
    "    \n",
    "    cleaned_sents.append(clean_text(\" \".join(review)))\n",
    "    \n",
    "    if i % 10000 == 0:\n",
    "        print(i)"
   ]
  },
  {
   "cell_type": "code",
   "execution_count": 66,
   "metadata": {},
   "outputs": [
    {
     "data": {
      "text/plain": [
       "100000"
      ]
     },
     "execution_count": 66,
     "metadata": {},
     "output_type": "execute_result"
    }
   ],
   "source": [
    "len(cleaned_sents)"
   ]
  },
  {
   "cell_type": "code",
   "execution_count": 70,
   "metadata": {},
   "outputs": [],
   "source": [
    "reviews = reviews.join(pd.DataFrame(cleaned_sents, columns=['clean_text']))"
   ]
  },
  {
   "cell_type": "code",
   "execution_count": 71,
   "metadata": {},
   "outputs": [
    {
     "data": {
      "text/html": [
       "<div>\n",
       "<style scoped>\n",
       "    .dataframe tbody tr th:only-of-type {\n",
       "        vertical-align: middle;\n",
       "    }\n",
       "\n",
       "    .dataframe tbody tr th {\n",
       "        vertical-align: top;\n",
       "    }\n",
       "\n",
       "    .dataframe thead th {\n",
       "        text-align: right;\n",
       "    }\n",
       "</style>\n",
       "<table border=\"1\" class=\"dataframe\">\n",
       "  <thead>\n",
       "    <tr style=\"text-align: right;\">\n",
       "      <th></th>\n",
       "      <th>index</th>\n",
       "      <th>business_id</th>\n",
       "      <th>review_id</th>\n",
       "      <th>user_id</th>\n",
       "      <th>latitude</th>\n",
       "      <th>longitude</th>\n",
       "      <th>region</th>\n",
       "      <th>name</th>\n",
       "      <th>postal_code</th>\n",
       "      <th>city</th>\n",
       "      <th>state</th>\n",
       "      <th>neighborhood</th>\n",
       "      <th>text</th>\n",
       "      <th>clean_text</th>\n",
       "    </tr>\n",
       "  </thead>\n",
       "  <tbody>\n",
       "    <tr>\n",
       "      <th>0</th>\n",
       "      <td>0</td>\n",
       "      <td>0W4lkclzZThpx3V65bVgig</td>\n",
       "      <td>v0i_UHJMo_hPBq9bxWvW4w</td>\n",
       "      <td>bv2nCi5Qv5vroFiqKGopiw</td>\n",
       "      <td>45.516373</td>\n",
       "      <td>-73.577538</td>\n",
       "      <td>canada</td>\n",
       "      <td>Schwartz's</td>\n",
       "      <td>H2W 1X9</td>\n",
       "      <td>Montréal</td>\n",
       "      <td>QC</td>\n",
       "      <td>Plateau-Mont-Royal</td>\n",
       "      <td>Love the staff, love the meat, love the place....</td>\n",
       "      <td>Love staff love meat love place &lt;NNP&gt; long lin...</td>\n",
       "    </tr>\n",
       "    <tr>\n",
       "      <th>1</th>\n",
       "      <td>1</td>\n",
       "      <td>AEx2SYEUJmTxVVB18LlCwA</td>\n",
       "      <td>vkVSCC7xljjrAI4UGfnKEQ</td>\n",
       "      <td>bv2nCi5Qv5vroFiqKGopiw</td>\n",
       "      <td>45.523335</td>\n",
       "      <td>-73.594856</td>\n",
       "      <td>canada</td>\n",
       "      <td>Wilensky's</td>\n",
       "      <td>H2T 2M1</td>\n",
       "      <td>Montréal</td>\n",
       "      <td>QC</td>\n",
       "      <td>Plateau-Mont-Royal</td>\n",
       "      <td>Super simple place but amazing nonetheless. It...</td>\n",
       "      <td>&lt;NNP&gt; simple place amazing nonetheless around ...</td>\n",
       "    </tr>\n",
       "    <tr>\n",
       "      <th>2</th>\n",
       "      <td>2</td>\n",
       "      <td>VR6GpWIda3SfvPC-lg9H3w</td>\n",
       "      <td>n6QzIUObkYshz4dz2QRJTw</td>\n",
       "      <td>bv2nCi5Qv5vroFiqKGopiw</td>\n",
       "      <td>45.472900</td>\n",
       "      <td>-73.588318</td>\n",
       "      <td>canada</td>\n",
       "      <td>Tuck Shop</td>\n",
       "      <td>H4C 1S7</td>\n",
       "      <td>Montréal</td>\n",
       "      <td>QC</td>\n",
       "      <td>Sud-Ouest</td>\n",
       "      <td>Small unassuming place that changes their menu...</td>\n",
       "      <td>Small unassuming place changes menu every ofte...</td>\n",
       "    </tr>\n",
       "    <tr>\n",
       "      <th>3</th>\n",
       "      <td>3</td>\n",
       "      <td>CKC0-MOWMqoeWf6s-szl8g</td>\n",
       "      <td>MV3CcKScW05u5LVfF6ok0g</td>\n",
       "      <td>bv2nCi5Qv5vroFiqKGopiw</td>\n",
       "      <td>45.522144</td>\n",
       "      <td>-73.607079</td>\n",
       "      <td>canada</td>\n",
       "      <td>Lester's Deli</td>\n",
       "      <td>H2V 1V1</td>\n",
       "      <td>Outremont</td>\n",
       "      <td>QC</td>\n",
       "      <td>Outremont</td>\n",
       "      <td>Lester's is located in a beautiful neighborhoo...</td>\n",
       "      <td>&lt;NNP&gt; located beautiful neighborhood since 195...</td>\n",
       "    </tr>\n",
       "    <tr>\n",
       "      <th>4</th>\n",
       "      <td>4</td>\n",
       "      <td>ACFtxLv8pGrrxMm6EgjreA</td>\n",
       "      <td>IXvOzsEMYtiJI0CARmj77Q</td>\n",
       "      <td>bv2nCi5Qv5vroFiqKGopiw</td>\n",
       "      <td>45.502510</td>\n",
       "      <td>-73.570122</td>\n",
       "      <td>canada</td>\n",
       "      <td>Five Guys</td>\n",
       "      <td>H3B 1B9</td>\n",
       "      <td>Montréal</td>\n",
       "      <td>QC</td>\n",
       "      <td>Ville-Marie</td>\n",
       "      <td>Love coming here. Yes the place always needs t...</td>\n",
       "      <td>Love coming Yes place always needs floor swept...</td>\n",
       "    </tr>\n",
       "  </tbody>\n",
       "</table>\n",
       "</div>"
      ],
      "text/plain": [
       "   index             business_id               review_id  \\\n",
       "0      0  0W4lkclzZThpx3V65bVgig  v0i_UHJMo_hPBq9bxWvW4w   \n",
       "1      1  AEx2SYEUJmTxVVB18LlCwA  vkVSCC7xljjrAI4UGfnKEQ   \n",
       "2      2  VR6GpWIda3SfvPC-lg9H3w  n6QzIUObkYshz4dz2QRJTw   \n",
       "3      3  CKC0-MOWMqoeWf6s-szl8g  MV3CcKScW05u5LVfF6ok0g   \n",
       "4      4  ACFtxLv8pGrrxMm6EgjreA  IXvOzsEMYtiJI0CARmj77Q   \n",
       "\n",
       "                  user_id   latitude  longitude  region           name  \\\n",
       "0  bv2nCi5Qv5vroFiqKGopiw  45.516373 -73.577538  canada     Schwartz's   \n",
       "1  bv2nCi5Qv5vroFiqKGopiw  45.523335 -73.594856  canada     Wilensky's   \n",
       "2  bv2nCi5Qv5vroFiqKGopiw  45.472900 -73.588318  canada      Tuck Shop   \n",
       "3  bv2nCi5Qv5vroFiqKGopiw  45.522144 -73.607079  canada  Lester's Deli   \n",
       "4  bv2nCi5Qv5vroFiqKGopiw  45.502510 -73.570122  canada      Five Guys   \n",
       "\n",
       "  postal_code       city state        neighborhood  \\\n",
       "0     H2W 1X9   Montréal    QC  Plateau-Mont-Royal   \n",
       "1     H2T 2M1   Montréal    QC  Plateau-Mont-Royal   \n",
       "2     H4C 1S7   Montréal    QC           Sud-Ouest   \n",
       "3     H2V 1V1  Outremont    QC           Outremont   \n",
       "4     H3B 1B9   Montréal    QC         Ville-Marie   \n",
       "\n",
       "                                                text  \\\n",
       "0  Love the staff, love the meat, love the place....   \n",
       "1  Super simple place but amazing nonetheless. It...   \n",
       "2  Small unassuming place that changes their menu...   \n",
       "3  Lester's is located in a beautiful neighborhoo...   \n",
       "4  Love coming here. Yes the place always needs t...   \n",
       "\n",
       "                                          clean_text  \n",
       "0  Love staff love meat love place <NNP> long lin...  \n",
       "1  <NNP> simple place amazing nonetheless around ...  \n",
       "2  Small unassuming place changes menu every ofte...  \n",
       "3  <NNP> located beautiful neighborhood since 195...  \n",
       "4  Love coming Yes place always needs floor swept...  "
      ]
     },
     "execution_count": 71,
     "metadata": {},
     "output_type": "execute_result"
    }
   ],
   "source": [
    "reviews.head()"
   ]
  },
  {
   "cell_type": "code",
   "execution_count": 72,
   "metadata": {},
   "outputs": [],
   "source": [
    "### Create sequence\n",
    "vocabulary_size = 20000 # only includes 20K most frequently occurring words\n",
    "tokenizer = Tokenizer(num_words=vocabulary_size)\n",
    "tokenizer.fit_on_texts(reviews['clean_text'])\n",
    "sequences = tokenizer.texts_to_sequences(reviews['clean_text'])\n",
    "\n",
    "# Longest review is 589 words\n",
    "data = pad_sequences(sequences)\n",
    "data = pd.DataFrame(data)"
   ]
  },
  {
   "cell_type": "code",
   "execution_count": 73,
   "metadata": {},
   "outputs": [],
   "source": [
    "# Keras requires categorical data type \n",
    "reviews['region'] = reviews.region.astype('category')\n",
    "categorical_labels = to_categorical(reviews['region'].cat.codes, num_classes=None)"
   ]
  },
  {
   "cell_type": "code",
   "execution_count": 74,
   "metadata": {},
   "outputs": [],
   "source": [
    "labels_train, labels_test, features_train, features_test = train_test_split(categorical_labels, data, test_size=0.20, random_state=42)"
   ]
  },
  {
   "cell_type": "code",
   "execution_count": 77,
   "metadata": {},
   "outputs": [],
   "source": [
    "## Network architecture, default batch_size is 32\n",
    "\n",
    "model = Sequential()\n",
    "model.add(Embedding(20000, 100, input_length=508))\n",
    "model.add(Conv1D(64, 3, activation='relu'))\n",
    "model.add(Conv1D(64, 3, activation='relu'))\n",
    "model.add(MaxPooling1D(3))\n",
    "model.add(Conv1D(128, 3, activation='relu'))\n",
    "model.add(Conv1D(128, 3, activation='relu'))\n",
    "model.add(GlobalAveragePooling1D())\n",
    "model.add(Dropout(0.5))\n",
    "model.add(Dense(5, activation='sigmoid'))\n",
    "\n",
    "model.compile(loss='categorical_crossentropy', optimizer='adam', metrics=['accuracy'])"
   ]
  },
  {
   "cell_type": "code",
   "execution_count": 78,
   "metadata": {},
   "outputs": [
    {
     "name": "stdout",
     "output_type": "stream",
     "text": [
      "Train on 48000 samples, validate on 32000 samples\n",
      "Epoch 1/3\n",
      "48000/48000 [==============================] - 111s 2ms/step - loss: 1.0025 - acc: 0.6901 - val_loss: 0.9374 - val_acc: 0.7085\n",
      "Epoch 2/3\n",
      "48000/48000 [==============================] - 109s 2ms/step - loss: 0.8760 - acc: 0.7266 - val_loss: 0.9207 - val_acc: 0.7128\n",
      "Epoch 3/3\n",
      "48000/48000 [==============================] - 109s 2ms/step - loss: 0.7907 - acc: 0.7446 - val_loss: 0.9550 - val_acc: 0.7127\n",
      "CPU times: user 46min 9s, sys: 13min 12s, total: 59min 22s\n",
      "Wall time: 5min 29s\n"
     ]
    },
    {
     "data": {
      "text/plain": [
       "<keras.callbacks.History at 0x7f03a04e4518>"
      ]
     },
     "execution_count": 78,
     "metadata": {},
     "output_type": "execute_result"
    }
   ],
   "source": [
    "%%time\n",
    "\n",
    "## Fit the model\n",
    "model.fit(features_train, labels_train, validation_split=0.4, epochs=3)"
   ]
  },
  {
   "cell_type": "code",
   "execution_count": 79,
   "metadata": {},
   "outputs": [
    {
     "name": "stdout",
     "output_type": "stream",
     "text": [
      "20000/20000 [==============================] - 10s 496us/step\n",
      "0.945718603706\n",
      "0.71225\n"
     ]
    }
   ],
   "source": [
    "score, acc = model.evaluate(features_test, labels_test)\n",
    "print(score)\n",
    "print(acc)"
   ]
  },
  {
   "cell_type": "code",
   "execution_count": 80,
   "metadata": {},
   "outputs": [
    {
     "data": {
      "text/html": [
       "<div>\n",
       "<style scoped>\n",
       "    .dataframe tbody tr th:only-of-type {\n",
       "        vertical-align: middle;\n",
       "    }\n",
       "\n",
       "    .dataframe tbody tr th {\n",
       "        vertical-align: top;\n",
       "    }\n",
       "\n",
       "    .dataframe thead th {\n",
       "        text-align: right;\n",
       "    }\n",
       "</style>\n",
       "<table border=\"1\" class=\"dataframe\">\n",
       "  <thead>\n",
       "    <tr style=\"text-align: right;\">\n",
       "      <th></th>\n",
       "      <th>0</th>\n",
       "      <th>1</th>\n",
       "      <th>2</th>\n",
       "      <th>3</th>\n",
       "      <th>4</th>\n",
       "    </tr>\n",
       "  </thead>\n",
       "  <tbody>\n",
       "    <tr>\n",
       "      <th>75721</th>\n",
       "      <td>0.033879</td>\n",
       "      <td>0.012018</td>\n",
       "      <td>0.084861</td>\n",
       "      <td>0.058903</td>\n",
       "      <td>0.984009</td>\n",
       "    </tr>\n",
       "    <tr>\n",
       "      <th>80184</th>\n",
       "      <td>0.074692</td>\n",
       "      <td>0.039797</td>\n",
       "      <td>0.127749</td>\n",
       "      <td>0.115569</td>\n",
       "      <td>0.922808</td>\n",
       "    </tr>\n",
       "    <tr>\n",
       "      <th>19864</th>\n",
       "      <td>0.099427</td>\n",
       "      <td>0.064776</td>\n",
       "      <td>0.189058</td>\n",
       "      <td>0.163031</td>\n",
       "      <td>0.861757</td>\n",
       "    </tr>\n",
       "    <tr>\n",
       "      <th>76699</th>\n",
       "      <td>0.049512</td>\n",
       "      <td>0.015762</td>\n",
       "      <td>0.075506</td>\n",
       "      <td>0.063349</td>\n",
       "      <td>0.963920</td>\n",
       "    </tr>\n",
       "    <tr>\n",
       "      <th>92991</th>\n",
       "      <td>0.119332</td>\n",
       "      <td>0.052644</td>\n",
       "      <td>0.152893</td>\n",
       "      <td>0.134075</td>\n",
       "      <td>0.855669</td>\n",
       "    </tr>\n",
       "  </tbody>\n",
       "</table>\n",
       "</div>"
      ],
      "text/plain": [
       "              0         1         2         3         4\n",
       "75721  0.033879  0.012018  0.084861  0.058903  0.984009\n",
       "80184  0.074692  0.039797  0.127749  0.115569  0.922808\n",
       "19864  0.099427  0.064776  0.189058  0.163031  0.861757\n",
       "76699  0.049512  0.015762  0.075506  0.063349  0.963920\n",
       "92991  0.119332  0.052644  0.152893  0.134075  0.855669"
      ]
     },
     "execution_count": 80,
     "metadata": {},
     "output_type": "execute_result"
    }
   ],
   "source": [
    "predictions = model.predict(features_test)\n",
    "predictions_df = pd.DataFrame(predictions, index=features_test.index)\n",
    "predictions_df.head()"
   ]
  },
  {
   "cell_type": "code",
   "execution_count": 89,
   "metadata": {},
   "outputs": [
    {
     "data": {
      "text/html": [
       "<div>\n",
       "<style scoped>\n",
       "    .dataframe tbody tr th:only-of-type {\n",
       "        vertical-align: middle;\n",
       "    }\n",
       "\n",
       "    .dataframe tbody tr th {\n",
       "        vertical-align: top;\n",
       "    }\n",
       "\n",
       "    .dataframe thead th {\n",
       "        text-align: right;\n",
       "    }\n",
       "</style>\n",
       "<table border=\"1\" class=\"dataframe\">\n",
       "  <thead>\n",
       "    <tr style=\"text-align: right;\">\n",
       "      <th></th>\n",
       "      <th>0</th>\n",
       "      <th>1</th>\n",
       "      <th>2</th>\n",
       "      <th>3</th>\n",
       "      <th>4</th>\n",
       "    </tr>\n",
       "  </thead>\n",
       "  <tbody>\n",
       "    <tr>\n",
       "      <th>75721</th>\n",
       "      <td>0.033879</td>\n",
       "      <td>0.012018</td>\n",
       "      <td>0.084861</td>\n",
       "      <td>0.058903</td>\n",
       "      <td>0.984009</td>\n",
       "    </tr>\n",
       "    <tr>\n",
       "      <th>80184</th>\n",
       "      <td>0.074692</td>\n",
       "      <td>0.039797</td>\n",
       "      <td>0.127749</td>\n",
       "      <td>0.115569</td>\n",
       "      <td>0.922808</td>\n",
       "    </tr>\n",
       "    <tr>\n",
       "      <th>19864</th>\n",
       "      <td>0.099427</td>\n",
       "      <td>0.064776</td>\n",
       "      <td>0.189058</td>\n",
       "      <td>0.163031</td>\n",
       "      <td>0.861757</td>\n",
       "    </tr>\n",
       "    <tr>\n",
       "      <th>76699</th>\n",
       "      <td>0.049512</td>\n",
       "      <td>0.015762</td>\n",
       "      <td>0.075506</td>\n",
       "      <td>0.063349</td>\n",
       "      <td>0.963920</td>\n",
       "    </tr>\n",
       "    <tr>\n",
       "      <th>92991</th>\n",
       "      <td>0.119332</td>\n",
       "      <td>0.052644</td>\n",
       "      <td>0.152893</td>\n",
       "      <td>0.134075</td>\n",
       "      <td>0.855669</td>\n",
       "    </tr>\n",
       "  </tbody>\n",
       "</table>\n",
       "</div>"
      ],
      "text/plain": [
       "              0         1         2         3         4\n",
       "75721  0.033879  0.012018  0.084861  0.058903  0.984009\n",
       "80184  0.074692  0.039797  0.127749  0.115569  0.922808\n",
       "19864  0.099427  0.064776  0.189058  0.163031  0.861757\n",
       "76699  0.049512  0.015762  0.075506  0.063349  0.963920\n",
       "92991  0.119332  0.052644  0.152893  0.134075  0.855669"
      ]
     },
     "execution_count": 89,
     "metadata": {},
     "output_type": "execute_result"
    }
   ],
   "source": [
    "predictions_df.head()"
   ]
  },
  {
   "cell_type": "code",
   "execution_count": 120,
   "metadata": {},
   "outputs": [
    {
     "data": {
      "text/plain": [
       "75721    4\n",
       "80184    4\n",
       "19864    4\n",
       "76699    4\n",
       "92991    4\n",
       "dtype: int64"
      ]
     },
     "execution_count": 120,
     "metadata": {},
     "output_type": "execute_result"
    }
   ],
   "source": [
    "predictions_df.idxmax(axis=1).head()"
   ]
  },
  {
   "cell_type": "code",
   "execution_count": 125,
   "metadata": {},
   "outputs": [
    {
     "name": "stdout",
     "output_type": "stream",
     "text": [
      "(1878,)\n",
      "()\n"
     ]
    },
    {
     "data": {
      "text/plain": [
       "68361"
      ]
     },
     "execution_count": 125,
     "metadata": {},
     "output_type": "execute_result"
    }
   ],
   "source": [
    "predictions_col_numbers = predictions_df.idxmax(axis=1)\n",
    "\n",
    "predictions_ca = predictions_col_numbers[predictions_col_numbers == 0]\n",
    "predictions_mw = predictions_col_numbers[predictions_col_numbers == 1]\n",
    "predictions_so = predictions_col_numbers[predictions_col_numbers == 2]\n",
    "predictions_ne = predictions_col_numbers[predictions_col_numbers == 3]\n",
    "predictions_we = predictions_col_numbers[predictions_col_numbers == 4]\n",
    "\n",
    "print(predictions_ca.shape)\n",
    "\n",
    "predictions_ca = predictions_df.loc[predictions_ca.index, 0].sort_values(ascending=False).index.values[0]\n",
    "\n",
    "print(predictions_ca.shape)\n",
    "predictions_ca"
   ]
  },
  {
   "cell_type": "code",
   "execution_count": 126,
   "metadata": {},
   "outputs": [
    {
     "name": "stdout",
     "output_type": "stream",
     "text": [
      "(1878,)\n",
      "(0,)\n",
      "(55,)\n",
      "(0,)\n",
      "(18067,)\n"
     ]
    }
   ],
   "source": [
    "print(predictions_col_numbers[predictions_col_numbers == 0].shape)\n",
    "print(predictions_col_numbers[predictions_col_numbers == 1].shape)\n",
    "print(predictions_col_numbers[predictions_col_numbers == 2].shape)\n",
    "print(predictions_col_numbers[predictions_col_numbers == 3].shape)\n",
    "print(predictions_col_numbers[predictions_col_numbers == 4].shape)"
   ]
  },
  {
   "cell_type": "code",
   "execution_count": 154,
   "metadata": {},
   "outputs": [
    {
     "name": "stdout",
     "output_type": "stream",
     "text": [
      "71214\n",
      "88984\n",
      "66552\n"
     ]
    }
   ],
   "source": [
    "predictions_col_numbers = predictions_df.idxmax(axis=1)\n",
    "\n",
    "predictions_ca = predictions_col_numbers[predictions_col_numbers == 0]\n",
    "predictions_mw = predictions_col_numbers[predictions_col_numbers == 1]\n",
    "predictions_ne = predictions_col_numbers[predictions_col_numbers == 2]\n",
    "predictions_so = predictions_col_numbers[predictions_col_numbers == 3]\n",
    "predictions_we = predictions_col_numbers[predictions_col_numbers == 4]\n",
    "\n",
    "predictions_ca_idx = predictions_df.loc[predictions_ca.index, 0].sort_values(ascending=False).index.values[3]\n",
    "# predictions_mw_idx = predictions_df.loc[predictions_mw.index, 1].sort_values(ascending=False).index.values[0]\n",
    "predictions_ne_idx = predictions_df.loc[predictions_ne.index, 2].sort_values(ascending=False).index.values[3]\n",
    "# predictions_so_idx = predictions_df.loc[predictions_ne.index, 3].sort_values(ascending=False).index.values[0]\n",
    "predictions_we_idx = predictions_df.loc[predictions_we.index, 4].sort_values(ascending=False).index.values[3]\n",
    "\n",
    "print(predictions_ca_idx)\n",
    "# print(top_prediction_mw_idx)\n",
    "print(predictions_ne_idx)\n",
    "# print(top_prediction_so_idx)\n",
    "print(predictions_we_idx)"
   ]
  },
  {
   "cell_type": "code",
   "execution_count": 155,
   "metadata": {},
   "outputs": [
    {
     "name": "stdout",
     "output_type": "stream",
     "text": [
      "<NNP> <NNP> <NNP> completely shut <NNP> <NNP> wandering street kept eye <NNP> local recommended not open first walked window shopped hard Tropical ice cream meaning Asian flavours say <NNP> kind random Closed <NNP> everything else 1 : 00pm 8 : 00pm assume will change sort kinks <NNP> Vietnamese iced coffees get ice cream Sounds like magical combo <NNP> recon beforehand raspberry lychee not display case came back trying samples asked one workers turns prepping new batch careful deliberation settled two lots interesting Asian flavours <NNP> yuzu corossol ginger name <NNP> lychee passionfruit 3 85 double scoop cup shared double scoop raspberry lychee passionfruit light refreshing full flavour Good consistency although started melt headed towards metro favourite two raspberry lychee Next time would try soft serve great spot grab quick cone <NNP> dessert are busy boulevard <NNP> <NNP>\n",
      "\n",
      "<NNP> <NNP> sticks <NNP> <NNP> neighborhood right reasons - laid back atmosphere pleasant service casual family - friendly environment colorful decor deliciously scrumptious pizza entering restaraunt immediately notice vibrantly colored murals bright bubbling lava lamps bar many flat screen line walls even patio enjoy relaxed environment catch game race even news enjoying beer place ample seating <NNP> offers quite spacious environment noticed several large groups sitting toward back restaraunt festival murals told capable catering birthday parties social gatherings children easily fascinated magic bus first choice seating arrangement - not miss REAL schoolbus painted overhauled fit tables forewarned offer reservations hostess took names gave buzzer seated minutes Granted went weekend night Despite wait staff encountered pleasant seemed enjoy job <NNP> best part - food drink menu offered several choices appetizers pretzels spinach dip hummus caprisse wings etc chose try spinach dip came table bubbling hot oven served crispy garlic toast points gooey cheesy nothing short incredible importantly - spinach chunks artichoke fresh along layer shaved parmesean came top <NNP> good pondered rest menu embarked beer list like good high quality beers microbrews beer list gem drink specials offer quite reasonable considering beer craft brew <NNP> offering <NNP> pints featured brewery month 3 50 pitchers Knowing thirsts settled pitcher went quite swimmingly meal like thin greasy foldable triangle slice not crust hand tossed toppings fresh pizza baked order said will wait humble conversation music - filled mnutes pizza busy Understandable not <NNP> Little Caesar - saw least five people tossing dough kitchen two others pulling pizzas oven tells enough wait well worth crust nice brown wheat crust told brush yummy crust garlic butter parmesean cheese good cheese practically dripping slice toppings a - plenty got philosopher pie - complete artichoke hearts kalamata olives feta provolone mozz steak every bit delicious server promised would best thing pizza place offer variety options offer gluten free crust list gluten free ingredients prefer vegan cheese want modify build pie ground accomidate Based experience definitely coming back Next time lunch Though advertised menu - particular mellow lunch specials mere 5 95 two slices + drink slice + salad + drink prefer not jumped bus yet man better hurry\n",
      "\n",
      "hubbys dad <NNP> <NNP> always talking great green chile <NNP> <NNP> <NNP> found place try vacationing <NNP> ordered pork verde burrito smothered green chile liked thought bit salty ordered carne adovada burrito smothered green chile liked mine bit salty taste yummy year old ordered chicken burrito beans rice loved burrito big boy got large <NNP> pie always hear enjoyed thinks little lacking chile also ordered chips guacamole guacamole really good guess not used much seasoning tortilla chips different guess boys prefer plain tortilla chips good meal\n"
     ]
    }
   ],
   "source": [
    "top_prediction_ca = reviews.loc[predictions_ca_idx, 'clean_text']\n",
    "# top_prediction_mw = reviews.loc[predictions_mw_idx, 'clean_text']\n",
    "top_prediction_ne = reviews.loc[predictions_ne_idx, 'clean_text']\n",
    "# top_prediction_so = reviews.loc[predictions_so_idx, 'clean_text']\n",
    "top_prediction_we = reviews.loc[predictions_we_idx, 'clean_text']\n",
    "\n",
    "print(top_prediction_ca)\n",
    "print()\n",
    "# print(top_prediction_mw)\n",
    "# print()\n",
    "print(top_prediction_ne)\n",
    "print()\n",
    "# print(top_prediction_so)\n",
    "# print()\n",
    "print(top_prediction_we)"
   ]
  },
  {
   "cell_type": "code",
   "execution_count": 119,
   "metadata": {},
   "outputs": [
    {
     "data": {
      "text/plain": [
       "'northeast'"
      ]
     },
     "execution_count": 119,
     "metadata": {},
     "output_type": "execute_result"
    }
   ],
   "source": [
    "reviews.loc[178, 'region']"
   ]
  },
  {
   "cell_type": "code",
   "execution_count": null,
   "metadata": {},
   "outputs": [],
   "source": []
  }
 ],
 "metadata": {
  "kernelspec": {
   "display_name": "Python 3",
   "language": "python",
   "name": "python3"
  },
  "language_info": {
   "codemirror_mode": {
    "name": "ipython",
    "version": 3
   },
   "file_extension": ".py",
   "mimetype": "text/x-python",
   "name": "python",
   "nbconvert_exporter": "python",
   "pygments_lexer": "ipython3",
   "version": "3.6.4"
  }
 },
 "nbformat": 4,
 "nbformat_minor": 2
}
