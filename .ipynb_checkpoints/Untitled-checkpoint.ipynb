{
 "cells": [
  {
   "cell_type": "markdown",
   "metadata": {},
   "source": [
    "# Exploring the Yelp Data Set"
   ]
  },
  {
   "cell_type": "code",
   "execution_count": 1,
   "metadata": {
    "collapsed": true
   },
   "outputs": [],
   "source": [
    "import pandas as pd\n",
    "import StringIO"
   ]
  },
  {
   "cell_type": "code",
   "execution_count": 2,
   "metadata": {},
   "outputs": [
    {
     "data": {
      "text/plain": [
       "u'0.23.3'"
      ]
     },
     "execution_count": 2,
     "metadata": {},
     "output_type": "execute_result"
    }
   ],
   "source": [
    "pd.__version__"
   ]
  },
  {
   "cell_type": "markdown",
   "metadata": {},
   "source": [
    "# Businesses JSON file\n",
    "\n",
    "Contains 174,000 businesses with various location data."
   ]
  },
  {
   "cell_type": "code",
   "execution_count": 3,
   "metadata": {},
   "outputs": [
    {
     "data": {
      "text/html": [
       "<div>\n",
       "<style scoped>\n",
       "    .dataframe tbody tr th:only-of-type {\n",
       "        vertical-align: middle;\n",
       "    }\n",
       "\n",
       "    .dataframe tbody tr th {\n",
       "        vertical-align: top;\n",
       "    }\n",
       "\n",
       "    .dataframe thead th {\n",
       "        text-align: right;\n",
       "    }\n",
       "</style>\n",
       "<table border=\"1\" class=\"dataframe\">\n",
       "  <thead>\n",
       "    <tr style=\"text-align: right;\">\n",
       "      <th></th>\n",
       "      <th>address</th>\n",
       "      <th>attributes</th>\n",
       "      <th>business_id</th>\n",
       "      <th>categories</th>\n",
       "      <th>city</th>\n",
       "      <th>hours</th>\n",
       "      <th>is_open</th>\n",
       "      <th>latitude</th>\n",
       "      <th>longitude</th>\n",
       "      <th>name</th>\n",
       "      <th>neighborhood</th>\n",
       "      <th>postal_code</th>\n",
       "      <th>review_count</th>\n",
       "      <th>stars</th>\n",
       "      <th>state</th>\n",
       "    </tr>\n",
       "  </thead>\n",
       "  <tbody>\n",
       "    <tr>\n",
       "      <th>0</th>\n",
       "      <td>4855 E Warner Rd, Ste B9</td>\n",
       "      <td>{u'AcceptsInsurance': True, u'ByAppointmentOnl...</td>\n",
       "      <td>FYWN1wneV18bWNgQjJ2GNg</td>\n",
       "      <td>[Dentists, General Dentistry, Health &amp; Medical...</td>\n",
       "      <td>Ahwatukee</td>\n",
       "      <td>{u'Tuesday': u'7:30-17:00', u'Friday': u'7:30-...</td>\n",
       "      <td>1</td>\n",
       "      <td>33.330690</td>\n",
       "      <td>-111.978599</td>\n",
       "      <td>Dental by Design</td>\n",
       "      <td></td>\n",
       "      <td>85044</td>\n",
       "      <td>22</td>\n",
       "      <td>4.0</td>\n",
       "      <td>AZ</td>\n",
       "    </tr>\n",
       "    <tr>\n",
       "      <th>1</th>\n",
       "      <td>3101 Washington Rd</td>\n",
       "      <td>{u'BusinessParking': {u'garage': False, u'stre...</td>\n",
       "      <td>He-G7vWjzVUysIKrfNbPUQ</td>\n",
       "      <td>[Hair Stylists, Hair Salons, Men's Hair Salons...</td>\n",
       "      <td>McMurray</td>\n",
       "      <td>{u'Monday': u'9:00-20:00', u'Tuesday': u'9:00-...</td>\n",
       "      <td>1</td>\n",
       "      <td>40.291685</td>\n",
       "      <td>-80.104900</td>\n",
       "      <td>Stephen Szabo Salon</td>\n",
       "      <td></td>\n",
       "      <td>15317</td>\n",
       "      <td>11</td>\n",
       "      <td>3.0</td>\n",
       "      <td>PA</td>\n",
       "    </tr>\n",
       "    <tr>\n",
       "      <th>2</th>\n",
       "      <td>6025 N 27th Ave, Ste 1</td>\n",
       "      <td>{}</td>\n",
       "      <td>KQPW8lFf1y5BT2MxiSZ3QA</td>\n",
       "      <td>[Departments of Motor Vehicles, Public Service...</td>\n",
       "      <td>Phoenix</td>\n",
       "      <td>{}</td>\n",
       "      <td>1</td>\n",
       "      <td>33.524903</td>\n",
       "      <td>-112.115310</td>\n",
       "      <td>Western Motor Vehicle</td>\n",
       "      <td></td>\n",
       "      <td>85017</td>\n",
       "      <td>18</td>\n",
       "      <td>1.5</td>\n",
       "      <td>AZ</td>\n",
       "    </tr>\n",
       "    <tr>\n",
       "      <th>3</th>\n",
       "      <td>5000 Arizona Mills Cr, Ste 435</td>\n",
       "      <td>{u'BusinessAcceptsCreditCards': True, u'Restau...</td>\n",
       "      <td>8DShNS-LuFqpEWIp0HxijA</td>\n",
       "      <td>[Sporting Goods, Shopping]</td>\n",
       "      <td>Tempe</td>\n",
       "      <td>{u'Monday': u'10:00-21:00', u'Tuesday': u'10:0...</td>\n",
       "      <td>0</td>\n",
       "      <td>33.383147</td>\n",
       "      <td>-111.964725</td>\n",
       "      <td>Sports Authority</td>\n",
       "      <td></td>\n",
       "      <td>85282</td>\n",
       "      <td>9</td>\n",
       "      <td>3.0</td>\n",
       "      <td>AZ</td>\n",
       "    </tr>\n",
       "    <tr>\n",
       "      <th>4</th>\n",
       "      <td>581 Howe Ave</td>\n",
       "      <td>{u'Alcohol': u'full_bar', u'HasTV': True, u'No...</td>\n",
       "      <td>PfOCPjBrlQAnz__NXj9h_w</td>\n",
       "      <td>[American (New), Nightlife, Bars, Sandwiches, ...</td>\n",
       "      <td>Cuyahoga Falls</td>\n",
       "      <td>{u'Monday': u'11:00-1:00', u'Tuesday': u'11:00...</td>\n",
       "      <td>1</td>\n",
       "      <td>41.119535</td>\n",
       "      <td>-81.475690</td>\n",
       "      <td>Brick House Tavern + Tap</td>\n",
       "      <td></td>\n",
       "      <td>44221</td>\n",
       "      <td>116</td>\n",
       "      <td>3.5</td>\n",
       "      <td>OH</td>\n",
       "    </tr>\n",
       "  </tbody>\n",
       "</table>\n",
       "</div>"
      ],
      "text/plain": [
       "                          address  \\\n",
       "0        4855 E Warner Rd, Ste B9   \n",
       "1              3101 Washington Rd   \n",
       "2          6025 N 27th Ave, Ste 1   \n",
       "3  5000 Arizona Mills Cr, Ste 435   \n",
       "4                    581 Howe Ave   \n",
       "\n",
       "                                          attributes             business_id  \\\n",
       "0  {u'AcceptsInsurance': True, u'ByAppointmentOnl...  FYWN1wneV18bWNgQjJ2GNg   \n",
       "1  {u'BusinessParking': {u'garage': False, u'stre...  He-G7vWjzVUysIKrfNbPUQ   \n",
       "2                                                 {}  KQPW8lFf1y5BT2MxiSZ3QA   \n",
       "3  {u'BusinessAcceptsCreditCards': True, u'Restau...  8DShNS-LuFqpEWIp0HxijA   \n",
       "4  {u'Alcohol': u'full_bar', u'HasTV': True, u'No...  PfOCPjBrlQAnz__NXj9h_w   \n",
       "\n",
       "                                          categories            city  \\\n",
       "0  [Dentists, General Dentistry, Health & Medical...       Ahwatukee   \n",
       "1  [Hair Stylists, Hair Salons, Men's Hair Salons...        McMurray   \n",
       "2  [Departments of Motor Vehicles, Public Service...         Phoenix   \n",
       "3                         [Sporting Goods, Shopping]           Tempe   \n",
       "4  [American (New), Nightlife, Bars, Sandwiches, ...  Cuyahoga Falls   \n",
       "\n",
       "                                               hours  is_open   latitude  \\\n",
       "0  {u'Tuesday': u'7:30-17:00', u'Friday': u'7:30-...        1  33.330690   \n",
       "1  {u'Monday': u'9:00-20:00', u'Tuesday': u'9:00-...        1  40.291685   \n",
       "2                                                 {}        1  33.524903   \n",
       "3  {u'Monday': u'10:00-21:00', u'Tuesday': u'10:0...        0  33.383147   \n",
       "4  {u'Monday': u'11:00-1:00', u'Tuesday': u'11:00...        1  41.119535   \n",
       "\n",
       "    longitude                      name neighborhood postal_code  \\\n",
       "0 -111.978599          Dental by Design                    85044   \n",
       "1  -80.104900       Stephen Szabo Salon                    15317   \n",
       "2 -112.115310     Western Motor Vehicle                    85017   \n",
       "3 -111.964725          Sports Authority                    85282   \n",
       "4  -81.475690  Brick House Tavern + Tap                    44221   \n",
       "\n",
       "   review_count  stars state  \n",
       "0            22    4.0    AZ  \n",
       "1            11    3.0    PA  \n",
       "2            18    1.5    AZ  \n",
       "3             9    3.0    AZ  \n",
       "4           116    3.5    OH  "
      ]
     },
     "execution_count": 3,
     "metadata": {},
     "output_type": "execute_result"
    }
   ],
   "source": [
    "businesses = pd.read_json('./data/dataset/business.json', lines=True, dtype={})\n",
    "businesses.head()"
   ]
  },
  {
   "cell_type": "code",
   "execution_count": 4,
   "metadata": {},
   "outputs": [
    {
     "data": {
      "text/plain": [
       "(174567, 15)"
      ]
     },
     "execution_count": 4,
     "metadata": {},
     "output_type": "execute_result"
    }
   ],
   "source": [
    "businesses.shape"
   ]
  },
  {
   "cell_type": "markdown",
   "metadata": {},
   "source": [
    "Business data set is 15MB:"
   ]
  },
  {
   "cell_type": "code",
   "execution_count": 5,
   "metadata": {},
   "outputs": [
    {
     "data": {
      "text/plain": [
       "Index                72\n",
       "address         1396536\n",
       "attributes      1396536\n",
       "business_id     1396536\n",
       "categories      1396536\n",
       "city            1396536\n",
       "hours           1396536\n",
       "is_open         1396536\n",
       "latitude        1396536\n",
       "longitude       1396536\n",
       "name            1396536\n",
       "neighborhood    1396536\n",
       "postal_code     1396536\n",
       "review_count    1396536\n",
       "stars           1396536\n",
       "state           1396536\n",
       "dtype: int64"
      ]
     },
     "execution_count": 5,
     "metadata": {},
     "output_type": "execute_result"
    }
   ],
   "source": [
    "businesses.memory_usage()"
   ]
  },
  {
   "cell_type": "markdown",
   "metadata": {},
   "source": [
    "# Reviews JSON file"
   ]
  },
  {
   "cell_type": "code",
   "execution_count": 41,
   "metadata": {},
   "outputs": [
    {
     "data": {
      "text/html": [
       "<div>\n",
       "<style scoped>\n",
       "    .dataframe tbody tr th:only-of-type {\n",
       "        vertical-align: middle;\n",
       "    }\n",
       "\n",
       "    .dataframe tbody tr th {\n",
       "        vertical-align: top;\n",
       "    }\n",
       "\n",
       "    .dataframe thead th {\n",
       "        text-align: right;\n",
       "    }\n",
       "</style>\n",
       "<table border=\"1\" class=\"dataframe\">\n",
       "  <thead>\n",
       "    <tr style=\"text-align: right;\">\n",
       "      <th></th>\n",
       "      <th>business_id</th>\n",
       "      <th>cool</th>\n",
       "      <th>date</th>\n",
       "      <th>funny</th>\n",
       "      <th>review_id</th>\n",
       "      <th>stars</th>\n",
       "      <th>text</th>\n",
       "      <th>useful</th>\n",
       "      <th>user_id</th>\n",
       "    </tr>\n",
       "  </thead>\n",
       "  <tbody>\n",
       "    <tr>\n",
       "      <th>0</th>\n",
       "      <td>0W4lkclzZThpx3V65bVgig</td>\n",
       "      <td>0</td>\n",
       "      <td>2016-05-28</td>\n",
       "      <td>0</td>\n",
       "      <td>v0i_UHJMo_hPBq9bxWvW4w</td>\n",
       "      <td>5</td>\n",
       "      <td>Love the staff, love the meat, love the place....</td>\n",
       "      <td>0</td>\n",
       "      <td>bv2nCi5Qv5vroFiqKGopiw</td>\n",
       "    </tr>\n",
       "    <tr>\n",
       "      <th>1</th>\n",
       "      <td>AEx2SYEUJmTxVVB18LlCwA</td>\n",
       "      <td>0</td>\n",
       "      <td>2016-05-28</td>\n",
       "      <td>0</td>\n",
       "      <td>vkVSCC7xljjrAI4UGfnKEQ</td>\n",
       "      <td>5</td>\n",
       "      <td>Super simple place but amazing nonetheless. It...</td>\n",
       "      <td>0</td>\n",
       "      <td>bv2nCi5Qv5vroFiqKGopiw</td>\n",
       "    </tr>\n",
       "    <tr>\n",
       "      <th>2</th>\n",
       "      <td>VR6GpWIda3SfvPC-lg9H3w</td>\n",
       "      <td>0</td>\n",
       "      <td>2016-05-28</td>\n",
       "      <td>0</td>\n",
       "      <td>n6QzIUObkYshz4dz2QRJTw</td>\n",
       "      <td>5</td>\n",
       "      <td>Small unassuming place that changes their menu...</td>\n",
       "      <td>0</td>\n",
       "      <td>bv2nCi5Qv5vroFiqKGopiw</td>\n",
       "    </tr>\n",
       "    <tr>\n",
       "      <th>3</th>\n",
       "      <td>CKC0-MOWMqoeWf6s-szl8g</td>\n",
       "      <td>0</td>\n",
       "      <td>2016-05-28</td>\n",
       "      <td>0</td>\n",
       "      <td>MV3CcKScW05u5LVfF6ok0g</td>\n",
       "      <td>5</td>\n",
       "      <td>Lester's is located in a beautiful neighborhoo...</td>\n",
       "      <td>0</td>\n",
       "      <td>bv2nCi5Qv5vroFiqKGopiw</td>\n",
       "    </tr>\n",
       "    <tr>\n",
       "      <th>4</th>\n",
       "      <td>ACFtxLv8pGrrxMm6EgjreA</td>\n",
       "      <td>0</td>\n",
       "      <td>2016-05-28</td>\n",
       "      <td>0</td>\n",
       "      <td>IXvOzsEMYtiJI0CARmj77Q</td>\n",
       "      <td>4</td>\n",
       "      <td>Love coming here. Yes the place always needs t...</td>\n",
       "      <td>0</td>\n",
       "      <td>bv2nCi5Qv5vroFiqKGopiw</td>\n",
       "    </tr>\n",
       "  </tbody>\n",
       "</table>\n",
       "</div>"
      ],
      "text/plain": [
       "              business_id  cool       date  funny               review_id  \\\n",
       "0  0W4lkclzZThpx3V65bVgig     0 2016-05-28      0  v0i_UHJMo_hPBq9bxWvW4w   \n",
       "1  AEx2SYEUJmTxVVB18LlCwA     0 2016-05-28      0  vkVSCC7xljjrAI4UGfnKEQ   \n",
       "2  VR6GpWIda3SfvPC-lg9H3w     0 2016-05-28      0  n6QzIUObkYshz4dz2QRJTw   \n",
       "3  CKC0-MOWMqoeWf6s-szl8g     0 2016-05-28      0  MV3CcKScW05u5LVfF6ok0g   \n",
       "4  ACFtxLv8pGrrxMm6EgjreA     0 2016-05-28      0  IXvOzsEMYtiJI0CARmj77Q   \n",
       "\n",
       "   stars                                               text  useful  \\\n",
       "0      5  Love the staff, love the meat, love the place....       0   \n",
       "1      5  Super simple place but amazing nonetheless. It...       0   \n",
       "2      5  Small unassuming place that changes their menu...       0   \n",
       "3      5  Lester's is located in a beautiful neighborhoo...       0   \n",
       "4      4  Love coming here. Yes the place always needs t...       0   \n",
       "\n",
       "                  user_id  \n",
       "0  bv2nCi5Qv5vroFiqKGopiw  \n",
       "1  bv2nCi5Qv5vroFiqKGopiw  \n",
       "2  bv2nCi5Qv5vroFiqKGopiw  \n",
       "3  bv2nCi5Qv5vroFiqKGopiw  \n",
       "4  bv2nCi5Qv5vroFiqKGopiw  "
      ]
     },
     "execution_count": 41,
     "metadata": {},
     "output_type": "execute_result"
    }
   ],
   "source": [
    "reader = pd.read_json('./data/dataset/review.json', lines=True, chunksize=1000)\n",
    "num_chunks = 0\n",
    "last_chunk = None\n",
    "for chunk in reader:\n",
    "    num_chunks += 1\n",
    "    if num_chunks >= 1:\n",
    "        last_chunk = chunk\n",
    "        break\n",
    "last_chunk.head()"
   ]
  },
  {
   "cell_type": "markdown",
   "metadata": {},
   "source": [
    "Review data set should be about 357 MB:"
   ]
  },
  {
   "cell_type": "code",
   "execution_count": 42,
   "metadata": {},
   "outputs": [
    {
     "data": {
      "text/plain": [
       "357"
      ]
     },
     "execution_count": 42,
     "metadata": {},
     "output_type": "execute_result"
    }
   ],
   "source": [
    "# Chunk size # num chunks\n",
    "(8000 * 9) * 5200 / 1024 / 1024"
   ]
  },
  {
   "cell_type": "markdown",
   "metadata": {},
   "source": [
    "# Join text reviews with location of businesses"
   ]
  },
  {
   "cell_type": "code",
   "execution_count": 49,
   "metadata": {
    "scrolled": true
   },
   "outputs": [
    {
     "data": {
      "text/html": [
       "<div>\n",
       "<style scoped>\n",
       "    .dataframe tbody tr th:only-of-type {\n",
       "        vertical-align: middle;\n",
       "    }\n",
       "\n",
       "    .dataframe tbody tr th {\n",
       "        vertical-align: top;\n",
       "    }\n",
       "\n",
       "    .dataframe thead th {\n",
       "        text-align: right;\n",
       "    }\n",
       "</style>\n",
       "<table border=\"1\" class=\"dataframe\">\n",
       "  <thead>\n",
       "    <tr style=\"text-align: right;\">\n",
       "      <th></th>\n",
       "      <th>business_id</th>\n",
       "      <th>review_id</th>\n",
       "      <th>text</th>\n",
       "      <th>user_id</th>\n",
       "      <th>city</th>\n",
       "      <th>latitude</th>\n",
       "      <th>longitude</th>\n",
       "      <th>name</th>\n",
       "      <th>neighborhood</th>\n",
       "      <th>postal_code</th>\n",
       "      <th>state</th>\n",
       "    </tr>\n",
       "  </thead>\n",
       "  <tbody>\n",
       "    <tr>\n",
       "      <th>0</th>\n",
       "      <td>0W4lkclzZThpx3V65bVgig</td>\n",
       "      <td>v0i_UHJMo_hPBq9bxWvW4w</td>\n",
       "      <td>Love the staff, love the meat, love the place....</td>\n",
       "      <td>bv2nCi5Qv5vroFiqKGopiw</td>\n",
       "      <td>Montréal</td>\n",
       "      <td>45.516373</td>\n",
       "      <td>-73.577537</td>\n",
       "      <td>Schwartz's</td>\n",
       "      <td>Plateau-Mont-Royal</td>\n",
       "      <td>H2W 1X9</td>\n",
       "      <td>QC</td>\n",
       "    </tr>\n",
       "    <tr>\n",
       "      <th>1</th>\n",
       "      <td>AEx2SYEUJmTxVVB18LlCwA</td>\n",
       "      <td>vkVSCC7xljjrAI4UGfnKEQ</td>\n",
       "      <td>Super simple place but amazing nonetheless. It...</td>\n",
       "      <td>bv2nCi5Qv5vroFiqKGopiw</td>\n",
       "      <td>Montréal</td>\n",
       "      <td>45.523333</td>\n",
       "      <td>-73.594859</td>\n",
       "      <td>Wilensky's</td>\n",
       "      <td>Plateau-Mont-Royal</td>\n",
       "      <td>H2T 2M1</td>\n",
       "      <td>QC</td>\n",
       "    </tr>\n",
       "    <tr>\n",
       "      <th>2</th>\n",
       "      <td>VR6GpWIda3SfvPC-lg9H3w</td>\n",
       "      <td>n6QzIUObkYshz4dz2QRJTw</td>\n",
       "      <td>Small unassuming place that changes their menu...</td>\n",
       "      <td>bv2nCi5Qv5vroFiqKGopiw</td>\n",
       "      <td>Montréal</td>\n",
       "      <td>45.472902</td>\n",
       "      <td>-73.588321</td>\n",
       "      <td>Tuck Shop</td>\n",
       "      <td>Sud-Ouest</td>\n",
       "      <td>H4C 1S7</td>\n",
       "      <td>QC</td>\n",
       "    </tr>\n",
       "    <tr>\n",
       "      <th>3</th>\n",
       "      <td>CKC0-MOWMqoeWf6s-szl8g</td>\n",
       "      <td>MV3CcKScW05u5LVfF6ok0g</td>\n",
       "      <td>Lester's is located in a beautiful neighborhoo...</td>\n",
       "      <td>bv2nCi5Qv5vroFiqKGopiw</td>\n",
       "      <td>Outremont</td>\n",
       "      <td>45.522144</td>\n",
       "      <td>-73.607076</td>\n",
       "      <td>Lester's Deli</td>\n",
       "      <td>Outremont</td>\n",
       "      <td>H2V 1V1</td>\n",
       "      <td>QC</td>\n",
       "    </tr>\n",
       "    <tr>\n",
       "      <th>4</th>\n",
       "      <td>ACFtxLv8pGrrxMm6EgjreA</td>\n",
       "      <td>IXvOzsEMYtiJI0CARmj77Q</td>\n",
       "      <td>Love coming here. Yes the place always needs t...</td>\n",
       "      <td>bv2nCi5Qv5vroFiqKGopiw</td>\n",
       "      <td>Montréal</td>\n",
       "      <td>45.502510</td>\n",
       "      <td>-73.570119</td>\n",
       "      <td>Five Guys</td>\n",
       "      <td>Ville-Marie</td>\n",
       "      <td>H3B 1B9</td>\n",
       "      <td>QC</td>\n",
       "    </tr>\n",
       "  </tbody>\n",
       "</table>\n",
       "</div>"
      ],
      "text/plain": [
       "              business_id               review_id  \\\n",
       "0  0W4lkclzZThpx3V65bVgig  v0i_UHJMo_hPBq9bxWvW4w   \n",
       "1  AEx2SYEUJmTxVVB18LlCwA  vkVSCC7xljjrAI4UGfnKEQ   \n",
       "2  VR6GpWIda3SfvPC-lg9H3w  n6QzIUObkYshz4dz2QRJTw   \n",
       "3  CKC0-MOWMqoeWf6s-szl8g  MV3CcKScW05u5LVfF6ok0g   \n",
       "4  ACFtxLv8pGrrxMm6EgjreA  IXvOzsEMYtiJI0CARmj77Q   \n",
       "\n",
       "                                                text                 user_id  \\\n",
       "0  Love the staff, love the meat, love the place....  bv2nCi5Qv5vroFiqKGopiw   \n",
       "1  Super simple place but amazing nonetheless. It...  bv2nCi5Qv5vroFiqKGopiw   \n",
       "2  Small unassuming place that changes their menu...  bv2nCi5Qv5vroFiqKGopiw   \n",
       "3  Lester's is located in a beautiful neighborhoo...  bv2nCi5Qv5vroFiqKGopiw   \n",
       "4  Love coming here. Yes the place always needs t...  bv2nCi5Qv5vroFiqKGopiw   \n",
       "\n",
       "        city   latitude  longitude           name        neighborhood  \\\n",
       "0   Montréal  45.516373 -73.577537     Schwartz's  Plateau-Mont-Royal   \n",
       "1   Montréal  45.523333 -73.594859     Wilensky's  Plateau-Mont-Royal   \n",
       "2   Montréal  45.472902 -73.588321      Tuck Shop           Sud-Ouest   \n",
       "3  Outremont  45.522144 -73.607076  Lester's Deli           Outremont   \n",
       "4   Montréal  45.502510 -73.570119      Five Guys         Ville-Marie   \n",
       "\n",
       "  postal_code state  \n",
       "0     H2W 1X9    QC  \n",
       "1     H2T 2M1    QC  \n",
       "2     H4C 1S7    QC  \n",
       "3     H2V 1V1    QC  \n",
       "4     H3B 1B9    QC  "
      ]
     },
     "execution_count": 49,
     "metadata": {},
     "output_type": "execute_result"
    }
   ],
   "source": [
    "# Define batch size, all 5.2M reviews won't fit in memory\n",
    "batch_size = 100000\n",
    "\n",
    "# Subset columns to location data, ids, and name only\n",
    "businesses = businesses[['business_id', 'city', 'latitude', 'longitude', 'name', 'neighborhood', 'postal_code', 'state']]\n",
    "\n",
    "# Iterate through batches\n",
    "reader = pd.read_json('./data/dataset/review.json', lines=True, chunksize=batch_size)\n",
    "last_chunk = None\n",
    "num_chunks = 0\n",
    "for chunk in reader:\n",
    "    \n",
    "    # Subset review columns and join to location data from business file\n",
    "    chunk = chunk[['business_id', 'review_id', 'text', 'user_id']]\n",
    "    chunk = chunk.merge(businesses, on='business_id', how='left')\n",
    "    \n",
    "    num_chunks += 1\n",
    "    if num_chunks >= 1:\n",
    "        last_chunk = chunk\n",
    "        break\n",
    "        \n",
    "last_chunk.head()"
   ]
  },
  {
   "cell_type": "markdown",
   "metadata": {},
   "source": [
    "# Constructing dialect labels\n",
    "\n",
    "There are a few ways we might construct labels for our dialect classification task:\n",
    "\n",
    "1. look for a different dataset that includes American English dialects\n",
    "2. perform clustering to discover regional clusters of similar vocabulary/syntax.\n",
    "3. choose arbitrary regions as dialects (west coast, northeast, south), and manually apply the dialect to each review\n",
    "4. use the country, state, or city of the review to represent the dialect.\n",
    "\n",
    "For this initial baseline classification task, we'll first explore option #4, and then #3 if necessary."
   ]
  },
  {
   "cell_type": "code",
   "execution_count": 76,
   "metadata": {},
   "outputs": [
    {
     "data": {
      "text/plain": [
       "state\n",
       "NV     1824442.0\n",
       "AZ     1627792.0\n",
       "ON      634366.0\n",
       "NC      307665.0\n",
       "OH      243768.0\n",
       "PA      229850.0\n",
       "QC      146372.0\n",
       "WI      109751.0\n",
       "EDH      47889.0\n",
       "IL       36467.0\n",
       "BW       35400.0\n",
       "SC       10860.0\n",
       "MLN       1851.0\n",
       "HLD       1288.0\n",
       "dtype: float64"
      ]
     },
     "execution_count": 76,
     "metadata": {},
     "output_type": "execute_result"
    }
   ],
   "source": [
    "# first, explore the distribution of reviews by state in the data set\n",
    "num_chunks = 0\n",
    "counts = pd.Series()\n",
    "reader = pd.read_json('./data/dataset/review.json', lines=True, chunksize=batch_size)\n",
    "for chunk in reader:\n",
    "    \n",
    "    # Subset review columns and join to location data from business file\n",
    "    chunk = chunk[['business_id', 'review_id', 'text', 'user_id']]\n",
    "    chunk = chunk.merge(businesses, on='business_id', how='left')\n",
    "    \n",
    "    counts = counts.add(chunk.groupby(['state'])['review_id'].count(), fill_value=0)\n",
    "    \n",
    "#     num_chunks += 1\n",
    "#     if num_chunks >= 10:\n",
    "#         last_chunk = chunk\n",
    "#         break\n",
    "        \n",
    "counts = counts.sort_values(ascending=False)\n",
    "counts[counts > 1000]"
   ]
  },
  {
   "cell_type": "markdown",
   "metadata": {},
   "source": [
    "This gives us 14 states which we will can use as a proxy for dialects (eliminating any states with less than 1000 reviews). These states are not evenly geographically distributed, and are probably not a great representation of dialect. In future work, we'll explore different representations of dialect mentioned above"
   ]
  },
  {
   "cell_type": "markdown",
   "metadata": {},
   "source": [
    "# Exploring & cleaning text reviews"
   ]
  },
  {
   "cell_type": "code",
   "execution_count": 56,
   "metadata": {
    "scrolled": true
   },
   "outputs": [
    {
     "name": "stdout",
     "output_type": "stream",
     "text": [
      "1                                                                                                                                                                                                                                                                                                                                                                                                             Super simple place but amazing nonetheless. It's been around since the 30's and they still serve the same thing they started with: a bologna and salami sandwich with mustard. \\n\\nStaff was very helpful and friendly.\n",
      "2                                                                                                          Small unassuming place that changes their menu every so often. Cool decor and vibe inside their 30 seat restaurant. Call for a reservation. \\n\\nWe had their beef tartar and pork belly to start and a salmon dish and lamb meal for mains. Everything was incredible! I could go on at length about how all the listed ingredients really make their dishes amazing but honestly you just need to go. \\n\\nA bit outside of downtown montreal but take the metro out and it's less than a 10 minute walk from the station.\n",
      "3                                                                                                                                                                                                                                             Lester's is located in a beautiful neighborhood and has been there since 1951. They are known for smoked meat which most deli's have but their brisket sandwich is what I come to montreal for. They've got about 12 seats outside to go along with the inside. \\n\\nThe smoked meat is up there in quality and taste with Schwartz's and you'll find less tourists at Lester's as well.\n",
      "4                                                                                     Love coming here. Yes the place always needs the floor swept but when you give out  peanuts in the shell how won't it always be a bit dirty. \\n\\nThe food speaks for itself, so good. Burgers are made to order and the meat is put on the grill when you order your sandwich. Getting the small burger just means 1 patty, the regular is a 2 patty burger which is twice the deliciousness. \\n\\nGetting the Cajun fries adds a bit of spice to them and whatever size you order they always throw more fries (a lot more fries) into the bag.\n",
      "5                                                                                                                                                                                                                                                                                                                                                                                            Had their chocolate almond croissant and it was amazing! So light and buttery and oh my how chocolaty.\\n\\nIf you're looking for a light breakfast then head out here. Perfect spot for a coffee/latté before heading out to the old port\n",
      "6                                                                                                                                             Cycle Pub Las Vegas was a blast! Got a groupon and rented the bike for 11 of us for an afternoon tour. Each bar was more fun than the last. Downtown Las Vegas has changed so much and for the better. We had a wide age range in this group from early 20's to mid 50's and everyone had so much fun! Our driver Tony was knowledgable , friendly and just plain fun! Would recommend this to anyone looking to do something different away from the strip. You won't be disappointed!\n",
      "7     Who would have guess that you would be able to get fairly decent Vietnamese restaurant in East York? \\n\\nNot quite the same as Chinatown in terms of pricing (slightly higher) but definitely one of the better Vietnamese restaurants outside of the neighbourhood. When I don't have time to go to Chinatown, this is the next best thing as it is down the street from me.\\n\\nSo far the only items I have tried are the phos (beef, chicken & vegetarian) - and they have not disappointed me! Especially the chicken pho.\\n\\nNext time I go back, I'm going to try the banh cuon (steamed rice noodle) and the vermicelli!\n",
      "8                                                                                                                                                                                                                                                                                                                                                                     Always drove past this coffee house and wondered about it. BF and I finally made the stop to try this place out.\\n\\nCute, quaint coffee shop with nice muskoka chairs outside. \\n\\nBF ordered an ice coffee and really enjoyed it! Guess we will be back again!\n",
      "9                                                                                                                                                                                                                                                                                                                                                                              Not bad!! Love that there is a gluten-free, vegan version of the cheese curds and gravy!!\\n\\nHaven't done the poutine taste test yet with smoke's but Im excited to see which is better. However poutini's might win as they are vegan and gluten-free\n",
      "10                                                                                                                                                                                                                                                                                                             Love this place!\\n\\nPeggy is great with dogs and does a great job! She is very patience with him and will make any adjustments you need before you leave the store. My little guy has no problems coming here.\\n\\nThey also have very good bully sticks (the non-smelly ones) that my little guy and his friends love!\n",
      "Name: text, dtype: object\n"
     ]
    }
   ],
   "source": [
    "pd.options.display.max_colwidth = 1000\n",
    "print last_chunk.loc[1:10, 'text']"
   ]
  },
  {
   "cell_type": "markdown",
   "metadata": {},
   "source": [
    "# Training a bag of words classifier"
   ]
  },
  {
   "cell_type": "code",
   "execution_count": 80,
   "metadata": {},
   "outputs": [],
   "source": [
    "from sklearn.feature_extraction.text import CountVectorizer\n",
    "from sklearn.feature_extraction.text import TfidfTransformer\n",
    "from sklearn.linear_model import LogisticRegression\n",
    "from sklearn.model_selection import train_test_split\n",
    "from sklearn import metrics\n",
    "\n",
    "# training on just one chunk initially\n",
    "vect = CountVectorizer(stop_words='english', lowercase=True)\n",
    "counts = vect.fit_transform(last_chunk['text'])\n",
    "tfidf_transformer = TfidfTransformer()\n",
    "tfidf = tfidf_transformer.fit_transform(counts)\n",
    "\n",
    "# train a model predicting the state from the text\n",
    "labels_train, labels_test, features_train, features_test = train_test_split(last_chunk['state'], tfidf, test_size=0.20, random_state=42)\n",
    "trained_model = LogisticRegression().fit(features_train, labels_train)"
   ]
  },
  {
   "cell_type": "code",
   "execution_count": 82,
   "metadata": {},
   "outputs": [
    {
     "name": "stdout",
     "output_type": "stream",
     "text": [
      "0.56505\n"
     ]
    }
   ],
   "source": [
    "predictions = trained_model.predict(features_test)\n",
    "accuracy = metrics.accuracy_score(labels_test, predictions)\n",
    "print accuracy\n",
    "# print metrics.confusion_matrix(predictions, labels_test)"
   ]
  },
  {
   "cell_type": "code",
   "execution_count": null,
   "metadata": {
    "collapsed": true
   },
   "outputs": [],
   "source": []
  }
 ],
 "metadata": {
  "kernelspec": {
   "display_name": "Python 2",
   "language": "python",
   "name": "python2"
  },
  "language_info": {
   "codemirror_mode": {
    "name": "ipython",
    "version": 2
   },
   "file_extension": ".py",
   "mimetype": "text/x-python",
   "name": "python",
   "nbconvert_exporter": "python",
   "pygments_lexer": "ipython2",
   "version": "2.7.13"
  }
 },
 "nbformat": 4,
 "nbformat_minor": 2
}
