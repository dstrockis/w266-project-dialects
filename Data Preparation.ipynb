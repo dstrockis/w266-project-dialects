{
 "cells": [
  {
   "cell_type": "markdown",
   "metadata": {},
   "source": [
    "# Exploring the Yelp Data Set"
   ]
  },
  {
   "cell_type": "code",
   "execution_count": 1,
   "metadata": {},
   "outputs": [],
   "source": [
    "import pandas as pd\n",
    "import csv"
   ]
  },
  {
   "cell_type": "code",
   "execution_count": 2,
   "metadata": {},
   "outputs": [
    {
     "data": {
      "text/plain": [
       "'0.23.3'"
      ]
     },
     "execution_count": 2,
     "metadata": {},
     "output_type": "execute_result"
    }
   ],
   "source": [
    "pd.__version__"
   ]
  },
  {
   "cell_type": "markdown",
   "metadata": {},
   "source": [
    "# Businesses JSON file\n",
    "\n",
    "Contains 174,000 businesses with various location data."
   ]
  },
  {
   "cell_type": "code",
   "execution_count": 3,
   "metadata": {},
   "outputs": [
    {
     "data": {
      "text/html": [
       "<div>\n",
       "<style scoped>\n",
       "    .dataframe tbody tr th:only-of-type {\n",
       "        vertical-align: middle;\n",
       "    }\n",
       "\n",
       "    .dataframe tbody tr th {\n",
       "        vertical-align: top;\n",
       "    }\n",
       "\n",
       "    .dataframe thead th {\n",
       "        text-align: right;\n",
       "    }\n",
       "</style>\n",
       "<table border=\"1\" class=\"dataframe\">\n",
       "  <thead>\n",
       "    <tr style=\"text-align: right;\">\n",
       "      <th></th>\n",
       "      <th>address</th>\n",
       "      <th>attributes</th>\n",
       "      <th>business_id</th>\n",
       "      <th>categories</th>\n",
       "      <th>city</th>\n",
       "      <th>hours</th>\n",
       "      <th>is_open</th>\n",
       "      <th>latitude</th>\n",
       "      <th>longitude</th>\n",
       "      <th>name</th>\n",
       "      <th>neighborhood</th>\n",
       "      <th>postal_code</th>\n",
       "      <th>review_count</th>\n",
       "      <th>stars</th>\n",
       "      <th>state</th>\n",
       "    </tr>\n",
       "  </thead>\n",
       "  <tbody>\n",
       "    <tr>\n",
       "      <th>0</th>\n",
       "      <td>4855 E Warner Rd, Ste B9</td>\n",
       "      <td>{'AcceptsInsurance': True, 'ByAppointmentOnly'...</td>\n",
       "      <td>FYWN1wneV18bWNgQjJ2GNg</td>\n",
       "      <td>[Dentists, General Dentistry, Health &amp; Medical...</td>\n",
       "      <td>Ahwatukee</td>\n",
       "      <td>{'Friday': '7:30-17:00', 'Tuesday': '7:30-17:0...</td>\n",
       "      <td>1</td>\n",
       "      <td>33.330690</td>\n",
       "      <td>-111.978599</td>\n",
       "      <td>Dental by Design</td>\n",
       "      <td></td>\n",
       "      <td>85044</td>\n",
       "      <td>22</td>\n",
       "      <td>4.0</td>\n",
       "      <td>AZ</td>\n",
       "    </tr>\n",
       "    <tr>\n",
       "      <th>1</th>\n",
       "      <td>3101 Washington Rd</td>\n",
       "      <td>{'BusinessParking': {'garage': False, 'street'...</td>\n",
       "      <td>He-G7vWjzVUysIKrfNbPUQ</td>\n",
       "      <td>[Hair Stylists, Hair Salons, Men's Hair Salons...</td>\n",
       "      <td>McMurray</td>\n",
       "      <td>{'Monday': '9:00-20:00', 'Tuesday': '9:00-20:0...</td>\n",
       "      <td>1</td>\n",
       "      <td>40.291685</td>\n",
       "      <td>-80.104900</td>\n",
       "      <td>Stephen Szabo Salon</td>\n",
       "      <td></td>\n",
       "      <td>15317</td>\n",
       "      <td>11</td>\n",
       "      <td>3.0</td>\n",
       "      <td>PA</td>\n",
       "    </tr>\n",
       "    <tr>\n",
       "      <th>2</th>\n",
       "      <td>6025 N 27th Ave, Ste 1</td>\n",
       "      <td>{}</td>\n",
       "      <td>KQPW8lFf1y5BT2MxiSZ3QA</td>\n",
       "      <td>[Departments of Motor Vehicles, Public Service...</td>\n",
       "      <td>Phoenix</td>\n",
       "      <td>{}</td>\n",
       "      <td>1</td>\n",
       "      <td>33.524903</td>\n",
       "      <td>-112.115310</td>\n",
       "      <td>Western Motor Vehicle</td>\n",
       "      <td></td>\n",
       "      <td>85017</td>\n",
       "      <td>18</td>\n",
       "      <td>1.5</td>\n",
       "      <td>AZ</td>\n",
       "    </tr>\n",
       "    <tr>\n",
       "      <th>3</th>\n",
       "      <td>5000 Arizona Mills Cr, Ste 435</td>\n",
       "      <td>{'BusinessAcceptsCreditCards': True, 'Restaura...</td>\n",
       "      <td>8DShNS-LuFqpEWIp0HxijA</td>\n",
       "      <td>[Sporting Goods, Shopping]</td>\n",
       "      <td>Tempe</td>\n",
       "      <td>{'Monday': '10:00-21:00', 'Tuesday': '10:00-21...</td>\n",
       "      <td>0</td>\n",
       "      <td>33.383147</td>\n",
       "      <td>-111.964725</td>\n",
       "      <td>Sports Authority</td>\n",
       "      <td></td>\n",
       "      <td>85282</td>\n",
       "      <td>9</td>\n",
       "      <td>3.0</td>\n",
       "      <td>AZ</td>\n",
       "    </tr>\n",
       "    <tr>\n",
       "      <th>4</th>\n",
       "      <td>581 Howe Ave</td>\n",
       "      <td>{'Alcohol': 'full_bar', 'HasTV': True, 'NoiseL...</td>\n",
       "      <td>PfOCPjBrlQAnz__NXj9h_w</td>\n",
       "      <td>[American (New), Nightlife, Bars, Sandwiches, ...</td>\n",
       "      <td>Cuyahoga Falls</td>\n",
       "      <td>{'Monday': '11:00-1:00', 'Tuesday': '11:00-1:0...</td>\n",
       "      <td>1</td>\n",
       "      <td>41.119535</td>\n",
       "      <td>-81.475690</td>\n",
       "      <td>Brick House Tavern + Tap</td>\n",
       "      <td></td>\n",
       "      <td>44221</td>\n",
       "      <td>116</td>\n",
       "      <td>3.5</td>\n",
       "      <td>OH</td>\n",
       "    </tr>\n",
       "  </tbody>\n",
       "</table>\n",
       "</div>"
      ],
      "text/plain": [
       "                          address  \\\n",
       "0        4855 E Warner Rd, Ste B9   \n",
       "1              3101 Washington Rd   \n",
       "2          6025 N 27th Ave, Ste 1   \n",
       "3  5000 Arizona Mills Cr, Ste 435   \n",
       "4                    581 Howe Ave   \n",
       "\n",
       "                                          attributes             business_id  \\\n",
       "0  {'AcceptsInsurance': True, 'ByAppointmentOnly'...  FYWN1wneV18bWNgQjJ2GNg   \n",
       "1  {'BusinessParking': {'garage': False, 'street'...  He-G7vWjzVUysIKrfNbPUQ   \n",
       "2                                                 {}  KQPW8lFf1y5BT2MxiSZ3QA   \n",
       "3  {'BusinessAcceptsCreditCards': True, 'Restaura...  8DShNS-LuFqpEWIp0HxijA   \n",
       "4  {'Alcohol': 'full_bar', 'HasTV': True, 'NoiseL...  PfOCPjBrlQAnz__NXj9h_w   \n",
       "\n",
       "                                          categories            city  \\\n",
       "0  [Dentists, General Dentistry, Health & Medical...       Ahwatukee   \n",
       "1  [Hair Stylists, Hair Salons, Men's Hair Salons...        McMurray   \n",
       "2  [Departments of Motor Vehicles, Public Service...         Phoenix   \n",
       "3                         [Sporting Goods, Shopping]           Tempe   \n",
       "4  [American (New), Nightlife, Bars, Sandwiches, ...  Cuyahoga Falls   \n",
       "\n",
       "                                               hours  is_open   latitude  \\\n",
       "0  {'Friday': '7:30-17:00', 'Tuesday': '7:30-17:0...        1  33.330690   \n",
       "1  {'Monday': '9:00-20:00', 'Tuesday': '9:00-20:0...        1  40.291685   \n",
       "2                                                 {}        1  33.524903   \n",
       "3  {'Monday': '10:00-21:00', 'Tuesday': '10:00-21...        0  33.383147   \n",
       "4  {'Monday': '11:00-1:00', 'Tuesday': '11:00-1:0...        1  41.119535   \n",
       "\n",
       "    longitude                      name neighborhood postal_code  \\\n",
       "0 -111.978599          Dental by Design                    85044   \n",
       "1  -80.104900       Stephen Szabo Salon                    15317   \n",
       "2 -112.115310     Western Motor Vehicle                    85017   \n",
       "3 -111.964725          Sports Authority                    85282   \n",
       "4  -81.475690  Brick House Tavern + Tap                    44221   \n",
       "\n",
       "   review_count  stars state  \n",
       "0            22    4.0    AZ  \n",
       "1            11    3.0    PA  \n",
       "2            18    1.5    AZ  \n",
       "3             9    3.0    AZ  \n",
       "4           116    3.5    OH  "
      ]
     },
     "execution_count": 3,
     "metadata": {},
     "output_type": "execute_result"
    }
   ],
   "source": [
    "businesses = pd.read_json('./data/business.json', lines=True, dtype={})\n",
    "businesses.head()"
   ]
  },
  {
   "cell_type": "code",
   "execution_count": 4,
   "metadata": {},
   "outputs": [
    {
     "data": {
      "text/plain": [
       "(174567, 15)"
      ]
     },
     "execution_count": 4,
     "metadata": {},
     "output_type": "execute_result"
    }
   ],
   "source": [
    "businesses.shape"
   ]
  },
  {
   "cell_type": "markdown",
   "metadata": {},
   "source": [
    "Business data set is 15MB:"
   ]
  },
  {
   "cell_type": "code",
   "execution_count": 5,
   "metadata": {},
   "outputs": [
    {
     "data": {
      "text/plain": [
       "Index                80\n",
       "address         1396536\n",
       "attributes      1396536\n",
       "business_id     1396536\n",
       "categories      1396536\n",
       "city            1396536\n",
       "hours           1396536\n",
       "is_open         1396536\n",
       "latitude        1396536\n",
       "longitude       1396536\n",
       "name            1396536\n",
       "neighborhood    1396536\n",
       "postal_code     1396536\n",
       "review_count    1396536\n",
       "stars           1396536\n",
       "state           1396536\n",
       "dtype: int64"
      ]
     },
     "execution_count": 5,
     "metadata": {},
     "output_type": "execute_result"
    }
   ],
   "source": [
    "businesses.memory_usage()"
   ]
  },
  {
   "cell_type": "markdown",
   "metadata": {},
   "source": [
    "# Reviews JSON file"
   ]
  },
  {
   "cell_type": "code",
   "execution_count": 6,
   "metadata": {},
   "outputs": [
    {
     "data": {
      "text/html": [
       "<div>\n",
       "<style scoped>\n",
       "    .dataframe tbody tr th:only-of-type {\n",
       "        vertical-align: middle;\n",
       "    }\n",
       "\n",
       "    .dataframe tbody tr th {\n",
       "        vertical-align: top;\n",
       "    }\n",
       "\n",
       "    .dataframe thead th {\n",
       "        text-align: right;\n",
       "    }\n",
       "</style>\n",
       "<table border=\"1\" class=\"dataframe\">\n",
       "  <thead>\n",
       "    <tr style=\"text-align: right;\">\n",
       "      <th></th>\n",
       "      <th>business_id</th>\n",
       "      <th>cool</th>\n",
       "      <th>date</th>\n",
       "      <th>funny</th>\n",
       "      <th>review_id</th>\n",
       "      <th>stars</th>\n",
       "      <th>text</th>\n",
       "      <th>useful</th>\n",
       "      <th>user_id</th>\n",
       "    </tr>\n",
       "  </thead>\n",
       "  <tbody>\n",
       "    <tr>\n",
       "      <th>0</th>\n",
       "      <td>0W4lkclzZThpx3V65bVgig</td>\n",
       "      <td>0</td>\n",
       "      <td>2016-05-28</td>\n",
       "      <td>0</td>\n",
       "      <td>v0i_UHJMo_hPBq9bxWvW4w</td>\n",
       "      <td>5</td>\n",
       "      <td>Love the staff, love the meat, love the place....</td>\n",
       "      <td>0</td>\n",
       "      <td>bv2nCi5Qv5vroFiqKGopiw</td>\n",
       "    </tr>\n",
       "    <tr>\n",
       "      <th>1</th>\n",
       "      <td>AEx2SYEUJmTxVVB18LlCwA</td>\n",
       "      <td>0</td>\n",
       "      <td>2016-05-28</td>\n",
       "      <td>0</td>\n",
       "      <td>vkVSCC7xljjrAI4UGfnKEQ</td>\n",
       "      <td>5</td>\n",
       "      <td>Super simple place but amazing nonetheless. It...</td>\n",
       "      <td>0</td>\n",
       "      <td>bv2nCi5Qv5vroFiqKGopiw</td>\n",
       "    </tr>\n",
       "    <tr>\n",
       "      <th>2</th>\n",
       "      <td>VR6GpWIda3SfvPC-lg9H3w</td>\n",
       "      <td>0</td>\n",
       "      <td>2016-05-28</td>\n",
       "      <td>0</td>\n",
       "      <td>n6QzIUObkYshz4dz2QRJTw</td>\n",
       "      <td>5</td>\n",
       "      <td>Small unassuming place that changes their menu...</td>\n",
       "      <td>0</td>\n",
       "      <td>bv2nCi5Qv5vroFiqKGopiw</td>\n",
       "    </tr>\n",
       "    <tr>\n",
       "      <th>3</th>\n",
       "      <td>CKC0-MOWMqoeWf6s-szl8g</td>\n",
       "      <td>0</td>\n",
       "      <td>2016-05-28</td>\n",
       "      <td>0</td>\n",
       "      <td>MV3CcKScW05u5LVfF6ok0g</td>\n",
       "      <td>5</td>\n",
       "      <td>Lester's is located in a beautiful neighborhoo...</td>\n",
       "      <td>0</td>\n",
       "      <td>bv2nCi5Qv5vroFiqKGopiw</td>\n",
       "    </tr>\n",
       "    <tr>\n",
       "      <th>4</th>\n",
       "      <td>ACFtxLv8pGrrxMm6EgjreA</td>\n",
       "      <td>0</td>\n",
       "      <td>2016-05-28</td>\n",
       "      <td>0</td>\n",
       "      <td>IXvOzsEMYtiJI0CARmj77Q</td>\n",
       "      <td>4</td>\n",
       "      <td>Love coming here. Yes the place always needs t...</td>\n",
       "      <td>0</td>\n",
       "      <td>bv2nCi5Qv5vroFiqKGopiw</td>\n",
       "    </tr>\n",
       "  </tbody>\n",
       "</table>\n",
       "</div>"
      ],
      "text/plain": [
       "              business_id  cool       date  funny               review_id  \\\n",
       "0  0W4lkclzZThpx3V65bVgig     0 2016-05-28      0  v0i_UHJMo_hPBq9bxWvW4w   \n",
       "1  AEx2SYEUJmTxVVB18LlCwA     0 2016-05-28      0  vkVSCC7xljjrAI4UGfnKEQ   \n",
       "2  VR6GpWIda3SfvPC-lg9H3w     0 2016-05-28      0  n6QzIUObkYshz4dz2QRJTw   \n",
       "3  CKC0-MOWMqoeWf6s-szl8g     0 2016-05-28      0  MV3CcKScW05u5LVfF6ok0g   \n",
       "4  ACFtxLv8pGrrxMm6EgjreA     0 2016-05-28      0  IXvOzsEMYtiJI0CARmj77Q   \n",
       "\n",
       "   stars                                               text  useful  \\\n",
       "0      5  Love the staff, love the meat, love the place....       0   \n",
       "1      5  Super simple place but amazing nonetheless. It...       0   \n",
       "2      5  Small unassuming place that changes their menu...       0   \n",
       "3      5  Lester's is located in a beautiful neighborhoo...       0   \n",
       "4      4  Love coming here. Yes the place always needs t...       0   \n",
       "\n",
       "                  user_id  \n",
       "0  bv2nCi5Qv5vroFiqKGopiw  \n",
       "1  bv2nCi5Qv5vroFiqKGopiw  \n",
       "2  bv2nCi5Qv5vroFiqKGopiw  \n",
       "3  bv2nCi5Qv5vroFiqKGopiw  \n",
       "4  bv2nCi5Qv5vroFiqKGopiw  "
      ]
     },
     "execution_count": 6,
     "metadata": {},
     "output_type": "execute_result"
    }
   ],
   "source": [
    "reader = pd.read_json('./data/review.json', lines=True, chunksize=1000)\n",
    "num_chunks = 0\n",
    "last_chunk = None\n",
    "for chunk in reader:\n",
    "    num_chunks += 1\n",
    "    if num_chunks >= 1:\n",
    "        last_chunk = chunk\n",
    "        break\n",
    "last_chunk.head()"
   ]
  },
  {
   "cell_type": "markdown",
   "metadata": {},
   "source": [
    "Review data set should be about 357 MB:"
   ]
  },
  {
   "cell_type": "code",
   "execution_count": 7,
   "metadata": {},
   "outputs": [
    {
     "data": {
      "text/plain": [
       "357.0556640625"
      ]
     },
     "execution_count": 7,
     "metadata": {},
     "output_type": "execute_result"
    }
   ],
   "source": [
    "# Chunk size # num chunks\n",
    "(8000 * 9) * 5200 / 1024 / 1024"
   ]
  },
  {
   "cell_type": "markdown",
   "metadata": {},
   "source": [
    "# Join text reviews with location of businesses"
   ]
  },
  {
   "cell_type": "code",
   "execution_count": 8,
   "metadata": {
    "scrolled": true
   },
   "outputs": [
    {
     "name": "stdout",
     "output_type": "stream",
     "text": [
      "(1000000, 11)\n",
      "CPU times: user 33.2 s, sys: 4.39 s, total: 37.6 s\n",
      "Wall time: 37.6 s\n"
     ]
    }
   ],
   "source": [
    "%%time\n",
    "\n",
    "# Define batch size, all 5.2M reviews won't fit in memory\n",
    "batch_size = 100000\n",
    "\n",
    "# Number of chunks to read in this call\n",
    "chunk_limit = 10\n",
    "\n",
    "# Subset columns to location data, ids, and name only\n",
    "businesses = businesses[['business_id', 'city', 'latitude', 'longitude', 'name', 'neighborhood', 'postal_code', 'state']]\n",
    "\n",
    "with open('./data/reviews.csv', 'w+') as f:\n",
    "    f.close() # overwrite file to empty\n",
    "\n",
    "# Read JSON file from Yelp\n",
    "reader = pd.read_json('./data/review.json', lines=True, chunksize=batch_size)\n",
    "\n",
    "# # The dataframe we'll work with\n",
    "reviews = pd.DataFrame(columns=[\n",
    "                          'business_id',\n",
    "                          'review_id',\n",
    "                          'text',\n",
    "                          'user_id',\n",
    "                          'city',\n",
    "                          'latitude',\n",
    "                          'longitude', \n",
    "                          'name',\n",
    "                          'neighborhood',\n",
    "                          'postal_code',\n",
    "                          'state',\n",
    "                      ])\n",
    "\n",
    "# Iterate through batches\n",
    "chunks = 0\n",
    "for chunk in reader:\n",
    "\n",
    "    # Subset review columns and join to location data from business file\n",
    "    chunk = chunk[['business_id', 'review_id', 'text', 'user_id']]\n",
    "    chunk = chunk.merge(businesses, on='business_id', how='left')\n",
    "    reviews = reviews.append(chunk, ignore_index=True)\n",
    "\n",
    "    chunks += 1\n",
    "    if chunks >= chunk_limit:\n",
    "        break\n",
    "\n",
    "print(reviews.shape)"
   ]
  },
  {
   "cell_type": "markdown",
   "metadata": {},
   "source": [
    "# Exploring location data"
   ]
  },
  {
   "cell_type": "code",
   "execution_count": 9,
   "metadata": {},
   "outputs": [
    {
     "data": {
      "text/plain": [
       "state\n",
       "NV     346940\n",
       "AZ     312538\n",
       "ON     116444\n",
       "NC      58217\n",
       "OH      47314\n",
       "PA      43119\n",
       "QC      29073\n",
       "WI      20726\n",
       "EDH      8816\n",
       "BW       6733\n",
       "IL       6731\n",
       "SC       1949\n",
       "Name: review_id, dtype: int64"
      ]
     },
     "execution_count": 9,
     "metadata": {},
     "output_type": "execute_result"
    }
   ],
   "source": [
    "# first, explore the distribution of reviews by state in the data set\n",
    "counts = reviews.groupby(['state'])['review_id'].count()\n",
    "counts = counts.sort_values(ascending=False)\n",
    "counts[counts > 1000]"
   ]
  },
  {
   "cell_type": "markdown",
   "metadata": {},
   "source": [
    "This gives us 14 states which we will can use as a proxy for dialects (eliminating any states with less than 1000 reviews). These states are not evenly geographically distributed, and are probably not a great representation of dialect. In future work, we'll explore different representations of dialect mentioned above"
   ]
  },
  {
   "cell_type": "markdown",
   "metadata": {},
   "source": [
    "- NV     346935 # Nevada\n",
    "- AZ     307215 # Arizona\n",
    "- ON     121478 # Ontario\n",
    "- NC      59643 # North Carolina\n",
    "- OH      46006 # Ohio\n",
    "- PA      44420 # Pennsylvania\n",
    "- QC      27922 # Quebec\n",
    "- WI      21666 # Wisconsin\n",
    "- EDH      8346 # Edinburgh, Scotland\n",
    "- IL       6967 # Illinois\n",
    "- BW       6058 # Baden-Württemberg, Germany\n",
    "- SC       2042 # South Carolina"
   ]
  },
  {
   "cell_type": "markdown",
   "metadata": {},
   "source": [
    "Let's remove any non Canadian-American countries:"
   ]
  },
  {
   "cell_type": "code",
   "execution_count": 10,
   "metadata": {},
   "outputs": [
    {
     "data": {
      "text/plain": [
       "(983194, 11)"
      ]
     },
     "execution_count": 10,
     "metadata": {},
     "output_type": "execute_result"
    }
   ],
   "source": [
    "reviews = reviews[(reviews['latitude'] > 20) & (reviews['latitude'] < 70) \n",
    "                  & (reviews['longitude'] > -140) & (reviews['longitude'] < -50)]\n",
    "reviews.shape"
   ]
  },
  {
   "cell_type": "markdown",
   "metadata": {},
   "source": [
    "# Constructing dialect labels\n",
    "\n",
    "There are a few ways we might construct labels for our dialect classification task:\n",
    "\n",
    "1. look for a different dataset that includes American English dialects\n",
    "2. perform clustering to discover regional clusters of similar vocabulary/syntax.\n",
    "3. choose arbitrary regions as dialects (west coast, northeast, south), and manually apply the dialect to each review\n",
    "4. use the country, state, or city of the review to represent the dialect.\n",
    "\n",
    "For our initial attemps, we'll first explore option #3, and #4."
   ]
  },
  {
   "cell_type": "markdown",
   "metadata": {},
   "source": [
    "For #4, the `state` variable provides our lables. For, #3, we'll first add a regional label for each review:"
   ]
  },
  {
   "cell_type": "code",
   "execution_count": 9,
   "metadata": {},
   "outputs": [],
   "source": [
    "def compute_region(row):\n",
    "    if row['state'] == 'ON' or row['state'] == 'QC':\n",
    "        return 'canada'\n",
    "    if row['latitude'] > 43 and row['longitude'] < -108:\n",
    "        return 'pnw'\n",
    "    if row['latitude'] < 43 and row['longitude'] < -108:\n",
    "        return 'west'\n",
    "    if row['latitude'] < 38 and row['longitude'] > -108:\n",
    "        return 'south'\n",
    "    if row['latitude'] > 38 and row['longitude'] > -108 and row['longitude'] < -84:\n",
    "        return 'midwest'\n",
    "    if row['latitude'] > 38 and row['longitude'] > -84:\n",
    "        return 'northeast'"
   ]
  },
  {
   "cell_type": "code",
   "execution_count": null,
   "metadata": {},
   "outputs": [],
   "source": [
    "reviews['region'] = reviews.apply(compute_region, axis=1)"
   ]
  },
  {
   "cell_type": "markdown",
   "metadata": {},
   "source": [
    "Let's inspect the distribution of reviews by region - it looks like there are 5 regions with a substantial set of reviews."
   ]
  },
  {
   "cell_type": "code",
   "execution_count": 12,
   "metadata": {},
   "outputs": [
    {
     "name": "stdout",
     "output_type": "stream",
     "text": [
      "region\n",
      "west         659499\n",
      "canada       145510\n",
      "northeast     90451\n",
      "south         60235\n",
      "midwest       27497\n",
      "pnw               2\n",
      "Name: review_id, dtype: int64\n"
     ]
    }
   ],
   "source": [
    "reg_counts = reviews.groupby(['region'])['review_id'].count()\n",
    "reg_counts = reg_counts.sort_values(ascending=False)\n",
    "print(reg_counts)"
   ]
  },
  {
   "cell_type": "markdown",
   "metadata": {},
   "source": [
    "Let's now plot the reviews by region to get a sense of how our reviews are geographically distributed:"
   ]
  },
  {
   "cell_type": "code",
   "execution_count": 13,
   "metadata": {},
   "outputs": [],
   "source": [
    "%matplotlib inline\n",
    "import numpy as np\n",
    "import matplotlib.pyplot as plt\n",
    "from mpl_toolkits.basemap import Basemap"
   ]
  },
  {
   "cell_type": "code",
   "execution_count": 14,
   "metadata": {},
   "outputs": [
    {
     "name": "stderr",
     "output_type": "stream",
     "text": [
      "/home/d_l_strockis/anaconda3/lib/python3.6/site-packages/mpl_toolkits/basemap/__init__.py:3222: MatplotlibDeprecationWarning: The ishold function was deprecated in version 2.0.\n",
      "  b = ax.ishold()\n",
      "/home/d_l_strockis/anaconda3/lib/python3.6/site-packages/mpl_toolkits/basemap/__init__.py:3231: MatplotlibDeprecationWarning: axes.hold is deprecated.\n",
      "    See the API Changes document (http://matplotlib.org/api/api_changes.html)\n",
      "    for more details.\n",
      "  ax.hold(b)\n"
     ]
    },
    {
     "data": {
      "text/plain": [
       "Text(0.5,1,'Map of reviews in North America')"
      ]
     },
     "execution_count": 14,
     "metadata": {},
     "output_type": "execute_result"
    },
    {
     "data": {
      "image/png": "[encoded data removed]",
      "text/plain": [
       "<matplotlib.figure.Figure at 0x7ff7139f8898>"
      ]
     },
     "metadata": {},
     "output_type": "display_data"
    }
   ],
   "source": [
    "lon = reviews.loc[:,'longitude'].values\n",
    "lat = reviews.loc[:,'latitude'].values\n",
    "colors = reviews.loc[:, 'region'].map({\n",
    "    'canada': 0,\n",
    "    'pnw': 1,\n",
    "    'west': 2,\n",
    "    'south': 3,\n",
    "    'midwest': 4,\n",
    "    'northeast': 5,\n",
    "})\n",
    "\n",
    "fig = plt.figure(figsize=(10, 8))\n",
    "m = Basemap(projection='lcc', resolution='c', width=8E6, height=8E6, \n",
    "            lat_0=45, lon_0=-100,)\n",
    "m.drawcoastlines()\n",
    "m.drawcountries()\n",
    "m.drawstates()\n",
    "\n",
    "m.scatter(lon, lat, latlon=True, s=2, c=colors)\n",
    "\n",
    "plt.title('Map of reviews in North America')\n"
   ]
  },
  {
   "cell_type": "markdown",
   "metadata": {},
   "source": [
    "# Exploring & cleaning text reviews"
   ]
  },
  {
   "cell_type": "markdown",
   "metadata": {},
   "source": [
    "Because different models we apply to our task might require different text cleaning steps to be taken, we choose to not implement text cleaning here, but in the forthcoming notebooks."
   ]
  },
  {
   "cell_type": "markdown",
   "metadata": {},
   "source": [
    "# Write pre-processed data to disk"
   ]
  },
  {
   "cell_type": "code",
   "execution_count": 10,
   "metadata": {},
   "outputs": [
    {
     "name": "stdout",
     "output_type": "stream",
     "text": [
      "Wrote 100000 lines\n",
      "Wrote 200000 lines\n",
      "Wrote 300000 lines\n",
      "Wrote 400000 lines\n",
      "Wrote 500000 lines\n",
      "Wrote 600000 lines\n",
      "Wrote 700000 lines\n",
      "Wrote 800000 lines\n",
      "Wrote 900000 lines\n",
      "Wrote 1000000 lines\n",
      "Wrote 1100000 lines\n",
      "Wrote 1200000 lines\n",
      "Wrote 1300000 lines\n",
      "Wrote 1400000 lines\n",
      "Wrote 1500000 lines\n",
      "Wrote 1600000 lines\n",
      "Wrote 1700000 lines\n",
      "Wrote 1800000 lines\n",
      "Wrote 1900000 lines\n",
      "Wrote 2000000 lines\n",
      "Wrote 2100000 lines\n",
      "Wrote 2200000 lines\n",
      "Wrote 2300000 lines\n",
      "Wrote 2400000 lines\n",
      "Wrote 2500000 lines\n",
      "Wrote 2600000 lines\n",
      "Wrote 2700000 lines\n",
      "Wrote 2800000 lines\n",
      "Wrote 2900000 lines\n",
      "Wrote 3000000 lines\n",
      "Wrote 3100000 lines\n",
      "Wrote 3200000 lines\n",
      "Wrote 3300000 lines\n",
      "Wrote 3400000 lines\n",
      "Wrote 3500000 lines\n",
      "Wrote 3600000 lines\n",
      "Wrote 3700000 lines\n",
      "Wrote 3800000 lines\n",
      "Wrote 3900000 lines\n",
      "Wrote 4000000 lines\n",
      "Wrote 4100000 lines\n",
      "Wrote 4200000 lines\n",
      "Wrote 4300000 lines\n",
      "Wrote 4400000 lines\n",
      "Wrote 4500000 lines\n",
      "Wrote 4600000 lines\n",
      "Wrote 4700000 lines\n",
      "Wrote 4800000 lines\n",
      "Wrote 4900000 lines\n",
      "Wrote 5000000 lines\n",
      "Wrote 5100000 lines\n",
      "Wrote 5200000 lines\n",
      "Wrote 5300000 lines\n",
      "CPU times: user 11min 58s, sys: 24 s, total: 12min 22s\n",
      "Wall time: 13min 2s\n"
     ]
    }
   ],
   "source": [
    "%%time\n",
    "\n",
    "import re\n",
    "def remove_sep_char(text):\n",
    "    return re.sub(r\"\\|\", \" \", text)\n",
    "\n",
    "# Define batch size, all 5.2M reviews won't fit in memory\n",
    "batch_size = 100000\n",
    "\n",
    "# Subset columns to location data, ids, and name only\n",
    "businesses = businesses[['business_id', 'city', 'latitude', 'longitude', 'name', 'neighborhood', 'postal_code', 'state']]\n",
    "\n",
    "with open('./data/reviews.csv', 'w+') as f:\n",
    "    f.close() # overwrite file to empty\n",
    "\n",
    "# Read JSON file from Yelp\n",
    "reader = pd.read_json('./data/review.json', lines=True, chunksize=batch_size)\n",
    "\n",
    "# Write joined chunks to CSV file\n",
    "with open('./data/reviews.csv', 'a') as f:\n",
    "    \n",
    "    num_batches = 0\n",
    "    # Iterate through batches\n",
    "    for reviews in reader:\n",
    "\n",
    "        # Subset review columns and join to location data from business file\n",
    "        reviews = reviews[['business_id', 'review_id', 'text', 'user_id']]\n",
    "        reviews = reviews.merge(businesses, on='business_id', how='left')\n",
    "        \n",
    "        # Remove any non US & Canada reviews\n",
    "        reviews = reviews[(reviews['latitude'] > 20) & (reviews['latitude'] < 70) \n",
    "                  & (reviews['longitude'] > -140) & (reviews['longitude'] < -50)]\n",
    "\n",
    "        # Add a region column to the data set based on latitude & longitude\n",
    "        reviews['region'] = reviews.apply(compute_region, axis=1)\n",
    "        \n",
    "        ## remove any pipe characters, which will be used as seperators in files\n",
    "        reviews['text'] = reviews['text'].map(lambda x: remove_sep_char(x))\n",
    "        \n",
    "        reviews.to_csv(\n",
    "            f, \n",
    "            header=False, \n",
    "            encoding='utf-8', \n",
    "            sep='|',\n",
    "            quoting=csv.QUOTE_MINIMAL,\n",
    "            columns=[\n",
    "              'business_id',\n",
    "              'review_id',\n",
    "              'user_id',\n",
    "              'latitude',\n",
    "              'longitude',\n",
    "              'region',\n",
    "              'name',\n",
    "              'postal_code',\n",
    "              'city',\n",
    "              'state',\n",
    "              'neighborhood',\n",
    "              'text',\n",
    "          ]\n",
    "        )\n",
    "        \n",
    "        num_batches += 1\n",
    "        \n",
    "        print('Wrote {0} lines'.format(str(num_batches*batch_size)))"
   ]
  },
  {
   "cell_type": "code",
   "execution_count": null,
   "metadata": {},
   "outputs": [],
   "source": []
  }
 ],
 "metadata": {
  "kernelspec": {
   "display_name": "Python 3",
   "language": "python",
   "name": "python3"
  },
  "language_info": {
   "codemirror_mode": {
    "name": "ipython",
    "version": 3
   },
   "file_extension": ".py",
   "mimetype": "text/x-python",
   "name": "python",
   "nbconvert_exporter": "python",
   "pygments_lexer": "ipython3",
   "version": "3.6.4"
  }
 },
 "nbformat": 4,
 "nbformat_minor": 2
}
